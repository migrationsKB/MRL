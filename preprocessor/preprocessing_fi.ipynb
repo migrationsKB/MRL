{
 "cells": [
  {
   "cell_type": "code",
   "execution_count": 3,
   "id": "7f48f751-06c3-477d-9a2e-cd17ed1b07fa",
   "metadata": {},
   "outputs": [],
   "source": [
    "os.chdir(\"/Users/yiyichen/PycharmProjects/MRL/\")"
   ]
  },
  {
   "cell_type": "code",
   "execution_count": 4,
   "id": "fe7dd314-2251-40a5-81cb-af398da041c7",
   "metadata": {},
   "outputs": [],
   "source": [
    "import os\n",
    "import argparse\n",
    "\n",
    "import polars as pl\n",
    "from sklearn.utils import shuffle\n",
    "from sklearn.model_selection import train_test_split\n",
    "import pandas as pd\n",
    "from collections import defaultdict\n",
    "\n",
    "from preprocessor.preprocessing import *"
   ]
  },
  {
   "cell_type": "code",
   "execution_count": 5,
   "id": "7c368e04-eeb7-44da-bb77-f605f59aa553",
   "metadata": {},
   "outputs": [],
   "source": [
    "lexica = pd.read_csv(\"datasets/hate_speech_detection/finnish/hurtlex_FI.tsv\", sep=\"\\t\")\n",
    "lemmas = lexica.lemma.tolist()"
   ]
  },
  {
   "cell_type": "code",
   "execution_count": 6,
   "id": "74310895-5547-403f-a6a2-fccd4bd47819",
   "metadata": {},
   "outputs": [],
   "source": [
    "def split_data(df):\n",
    "    train, test_val = train_test_split(df, test_size=0.2, random_state=1, shuffle=True)\n",
    "    val, test = train_test_split(test_val, test_size=0.5,random_state=1, shuffle=True)\n",
    "    return train, val, test"
   ]
  },
  {
   "cell_type": "markdown",
   "id": "e6240370-7748-40cc-9774-1c7b740f8738",
   "metadata": {},
   "source": [
    "# Finnish"
   ]
  },
  {
   "cell_type": "code",
   "execution_count": 7,
   "id": "f4a35953-dea4-4116-b0b2-ab7ab59861cf",
   "metadata": {},
   "outputs": [],
   "source": [
    "data_dir = \"datasets/sentiment_analysis/fi/\""
   ]
  },
  {
   "cell_type": "code",
   "execution_count": 8,
   "id": "1ae79722-ee9d-456c-b30e-36e3ed8ad034",
   "metadata": {},
   "outputs": [],
   "source": [
    "header= [\"A\", \"B\", \"C\", \"majority\", \"derived\", \"smiley\", \"product\", \"split\", \"batch\", \"filename_id\", \"text\"]"
   ]
  },
  {
   "cell_type": "code",
   "execution_count": 27,
   "id": "e0504756-bcfe-480c-a639-bcfedbc7ad52",
   "metadata": {},
   "outputs": [],
   "source": [
    "def read_tsv(filepath):\n",
    "    text_dict = defaultdict(list)\n",
    "    with open(filepath) as f:\n",
    "        for line in f.readlines():\n",
    "            if len(line.split(\"\\t\"))==len(header):\n",
    "                A, B, C, majority, derived, smiley, product, split, batch, filename_id, text = line.replace(\"\\n\", \"\").split(\"\\t\")\n",
    "                text_dict[\"A\"].append(A)\n",
    "                text_dict[\"B\"].append(B)\n",
    "                text_dict[\"C\"].append(C)\n",
    "                text_dict[\"majority\"].append(majority)\n",
    "                text_dict[\"derived\"].append(derived)\n",
    "                text_dict[\"smiley\"].append(smiley)\n",
    "                text_dict[\"product\"].append(product)\n",
    "                text_dict[\"split\"].append(split)\n",
    "                text_dict[\"batch\"].append(batch)\n",
    "                text_dict[\"filename_id\"].append(filename_id)\n",
    "                text_dict[\"text\"].append(text)\n",
    "    return text_dict"
   ]
  },
  {
   "cell_type": "code",
   "execution_count": 28,
   "id": "81c59e10-9300-4fd8-98f7-00f2ffdefb9d",
   "metadata": {},
   "outputs": [],
   "source": [
    "text_dict = read_tsv(os.path.join(data_dir, \"finsen-src\", \"FinnSentiment2020.tsv\"))"
   ]
  },
  {
   "cell_type": "code",
   "execution_count": 29,
   "id": "96af43ed-a60f-4a7b-b09a-458330bfcb10",
   "metadata": {},
   "outputs": [],
   "source": [
    "df = pd.DataFrame.from_dict(text_dict)"
   ]
  },
  {
   "cell_type": "code",
   "execution_count": 30,
   "id": "583171a3-5c1e-48c5-a1a5-f7923c3ae035",
   "metadata": {},
   "outputs": [
    {
     "data": {
      "text/plain": [
       "0     19825\n",
       "-1     4109\n",
       "1      3066\n",
       "Name: majority, dtype: int64"
      ]
     },
     "execution_count": 30,
     "metadata": {},
     "output_type": "execute_result"
    }
   ],
   "source": [
    "df.majority.value_counts()"
   ]
  },
  {
   "cell_type": "code",
   "execution_count": 31,
   "id": "67ceec66-f73f-48d4-8521-bc5fe09798cd",
   "metadata": {},
   "outputs": [
    {
     "data": {
      "text/plain": [
       "3    14195\n",
       "2     6422\n",
       "4     3460\n",
       "5     1536\n",
       "1     1387\n",
       "Name: derived, dtype: int64"
      ]
     },
     "execution_count": 31,
     "metadata": {},
     "output_type": "execute_result"
    }
   ],
   "source": [
    "df.derived.value_counts()"
   ]
  },
  {
   "cell_type": "markdown",
   "id": "b595c8eb-b3f4-43e0-8132-c4ebe4a519e1",
   "metadata": {
    "tags": []
   },
   "source": [
    "# get hate speech"
   ]
  },
  {
   "cell_type": "code",
   "execution_count": 34,
   "id": "7008efae-7891-4f9c-ac9d-699334f706f4",
   "metadata": {},
   "outputs": [],
   "source": [
    "def get_hs(df_):   \n",
    "    df_[\"majority\"]=df_[\"majority\"].astype(int)\n",
    "    df_[\"derived\"]=df_[\"derived\"].astype(int)\n",
    "    df_.loc[df['majority']==-1, \"sentiment\"]=0 # negative\n",
    "    df_.loc[df['majority']==0, \"sentiment\"]=1 # neutral\n",
    "    df_.loc[df['majority']==1, \"sentiment\"]=2 # positive\n",
    "    \n",
    "    # derived. 1-5 (-3, -2/-1, 0, 1/2, 3)\n",
    "    df_.loc[(df[\"sentiment\"]==0) & (df_[\"text\"].str.contains(\"|\".join(lemmas))), \"label\"]=1\n",
    "    df_.loc[(df[\"derived\"]==3) | (df_[\"derived\"]==5), \"label\"]=0\n",
    "    print(df_.head())\n",
    "    \n",
    "    df_['text']= df_['text'].apply(preprocessing_one_tweet)\n",
    "    df_ = df_.drop_duplicates(subset=[\"text\"])\n",
    "\n",
    "    df_[\"split\"] = df_[\"text\"].str.split()\n",
    "    df_[\"LEN\"] = [len(x) for x in df_['split']]\n",
    "    df_ = df_[df_['LEN']>2]\n",
    "    df_.dropna(subset=[\"text\"], inplace=True)\n",
    "    df_= df_[['text', 'label']]\n",
    "    values = df_.label.value_counts()\n",
    "    print(values)\n",
    "    min_value = min(values)\n",
    "    print(min_value) \n",
    "    df_ = df_.groupby(\"label\").sample(min_value)\n",
    "    print(df_.label.value_counts())\n",
    "    df_ = shuffle(df_)\n",
    "    return df_"
   ]
  },
  {
   "cell_type": "code",
   "execution_count": 35,
   "id": "a0f531da-736f-48eb-83d9-9cee4c8ecad2",
   "metadata": {},
   "outputs": [
    {
     "name": "stdout",
     "output_type": "stream",
     "text": [
      "   A  B  C  majority  derived smiley product  \\\n",
      "0  1  0  1         1        4      0      -1   \n",
      "1  0  1  0         0        4      0      -1   \n",
      "2  0  0  0         0        3      0      -1   \n",
      "3  1  1  1         1        5      0       1   \n",
      "4  1  1  1         1        5      0       1   \n",
      "\n",
      "                                               split batch  \\\n",
      "0                    [-, Tervetuloa, skotlantiin...]     1   \n",
      "1  [......, No,, oikein, sopiva, sattumaha, se, v...     1   \n",
      "2                                              [40.]     1   \n",
      "3       [Kyseessä, voi, olla, loppuelämäsi, nainen.]     1   \n",
      "4           [Sinne, vaan, ocean, clubiin, iskemään!]     1   \n",
      "\n",
      "                 filename_id  \\\n",
      "0  comments2008c.vrt 2145269   \n",
      "1  comments2011c.vrt 3247745   \n",
      "2  comments2007c.vrt 3792960   \n",
      "3  comments2010d.vrt 2351708   \n",
      "4  comments2007d.vrt 1701675   \n",
      "\n",
      "                                                text  sentiment  label  LEN  \n",
      "0                        - Tervetuloa skotlantiin...        2.0    NaN    3  \n",
      "1  ...... No, oikein sopiva sattumaha se vaan oli...        1.0    NaN   10  \n",
      "2                                                40.        1.0    0.0    1  \n",
      "3             Kyseessä voi olla loppuelämäsi nainen.        2.0    0.0    5  \n",
      "4                 Sinne vaan ocean clubiin iskemään!        2.0    0.0    5  \n",
      "0.0    13424\n",
      "1.0     2264\n",
      "Name: label, dtype: int64\n",
      "2264\n",
      "0.0    2264\n",
      "1.0    2264\n",
      "Name: label, dtype: int64\n"
     ]
    },
    {
     "name": "stderr",
     "output_type": "stream",
     "text": [
      "/var/folders/bj/qp6k2wl11h5gpn8j4hg0tgf40000gn/T/ipykernel_86245/3712144499.py:16: SettingWithCopyWarning: \n",
      "A value is trying to be set on a copy of a slice from a DataFrame.\n",
      "Try using .loc[row_indexer,col_indexer] = value instead\n",
      "\n",
      "See the caveats in the documentation: https://pandas.pydata.org/pandas-docs/stable/user_guide/indexing.html#returning-a-view-versus-a-copy\n",
      "  df_[\"split\"] = df_[\"text\"].str.split()\n",
      "/var/folders/bj/qp6k2wl11h5gpn8j4hg0tgf40000gn/T/ipykernel_86245/3712144499.py:17: SettingWithCopyWarning: \n",
      "A value is trying to be set on a copy of a slice from a DataFrame.\n",
      "Try using .loc[row_indexer,col_indexer] = value instead\n",
      "\n",
      "See the caveats in the documentation: https://pandas.pydata.org/pandas-docs/stable/user_guide/indexing.html#returning-a-view-versus-a-copy\n",
      "  df_[\"LEN\"] = [len(x) for x in df_['split']]\n"
     ]
    }
   ],
   "source": [
    "df_hs = get_hs(df)"
   ]
  },
  {
   "cell_type": "code",
   "execution_count": 36,
   "id": "83d02e2a-1ee8-4b39-adad-3b4502715307",
   "metadata": {},
   "outputs": [],
   "source": [
    "train, val, test = split_data(df_hs)"
   ]
  },
  {
   "cell_type": "code",
   "execution_count": 37,
   "id": "54989a85-fdbb-4811-a0e7-62241d5ebc1c",
   "metadata": {},
   "outputs": [
    {
     "data": {
      "text/plain": [
       "0.0    1813\n",
       "1.0    1809\n",
       "Name: label, dtype: int64"
      ]
     },
     "execution_count": 37,
     "metadata": {},
     "output_type": "execute_result"
    }
   ],
   "source": [
    "train.label.value_counts()"
   ]
  },
  {
   "cell_type": "code",
   "execution_count": 38,
   "id": "ed6bcf51-ac27-4771-aceb-5cac1aee0dec",
   "metadata": {},
   "outputs": [],
   "source": [
    "save_dir = \"datasets/hate_speech_detection/finnish/\""
   ]
  },
  {
   "cell_type": "code",
   "execution_count": 39,
   "id": "4da6a32f-8ad6-46cb-aedb-f4705e13e6ed",
   "metadata": {},
   "outputs": [],
   "source": [
    "train.to_csv(os.path.join(save_dir, \"preprocessed\", \"train.csv\"))\n",
    "val.to_csv(os.path.join(save_dir, \"preprocessed\", \"val.csv\"))\n",
    "test.to_csv(os.path.join(save_dir, \"preprocessed\", \"test.csv\"))"
   ]
  },
  {
   "cell_type": "markdown",
   "id": "61a78fdf-fa96-4a73-a6ef-b0e7d26a2156",
   "metadata": {},
   "source": [
    "# sentiment analysis"
   ]
  },
  {
   "cell_type": "code",
   "execution_count": 40,
   "id": "945212b1-a1b2-46f1-8a50-3fba17ac70ed",
   "metadata": {},
   "outputs": [],
   "source": [
    "def get_sentiment_df(df_):   \n",
    "    df_[\"majority\"]=df_[\"majority\"].astype(int)\n",
    "    df_.loc[df['majority']==-1, \"label\"]=0\n",
    "    df_.loc[df['majority']==0, \"label\"]=1\n",
    "    df_.loc[df['majority']==1, \"label\"]=2\n",
    "    print(df_.head())\n",
    "    df_['text']= df_['text'].apply(preprocessing_one_tweet)\n",
    "    df_ = df_.drop_duplicates(subset=[\"text\"])\n",
    "    \n",
    "    df_[\"split\"] = df_[\"text\"].str.split()\n",
    "    df_[\"LEN\"] = [len(x) for x in df_['split']]\n",
    "    df_ = df_[df_['LEN']>2]\n",
    "    df_.dropna(subset=[\"text\"], inplace=True)\n",
    "    df_= df_[['text', 'label']]\n",
    "    values = df_.label.value_counts()\n",
    "    print(values)\n",
    "    min_value = min(values)\n",
    "    print(min_value) \n",
    "    \n",
    "    df_ = df_.groupby(\"label\").sample(min_value)\n",
    "    print(df_.label.value_counts())\n",
    "    df_ = shuffle(df_)\n",
    "    return df_\n"
   ]
  },
  {
   "cell_type": "code",
   "execution_count": 41,
   "id": "42e6d902-0455-4a08-ad66-0a6bb7cd2a23",
   "metadata": {},
   "outputs": [
    {
     "name": "stdout",
     "output_type": "stream",
     "text": [
      "   A  B  C  majority  derived smiley product  \\\n",
      "0  1  0  1         1        4      0      -1   \n",
      "1  0  1  0         0        4      0      -1   \n",
      "2  0  0  0         0        3      0      -1   \n",
      "3  1  1  1         1        5      0       1   \n",
      "4  1  1  1         1        5      0       1   \n",
      "\n",
      "                                               split batch  \\\n",
      "0                    [-, Tervetuloa, skotlantiin...]     1   \n",
      "1  [......, No,, oikein, sopiva, sattumaha, se, v...     1   \n",
      "2                                              [40.]     1   \n",
      "3       [Kyseessä, voi, olla, loppuelämäsi, nainen.]     1   \n",
      "4           [Sinne, vaan, ocean, clubiin, iskemään!]     1   \n",
      "\n",
      "                 filename_id  \\\n",
      "0  comments2008c.vrt 2145269   \n",
      "1  comments2011c.vrt 3247745   \n",
      "2  comments2007c.vrt 3792960   \n",
      "3  comments2010d.vrt 2351708   \n",
      "4  comments2007d.vrt 1701675   \n",
      "\n",
      "                                                text  sentiment  label  LEN  \n",
      "0                        - Tervetuloa skotlantiin...        2.0    2.0    3  \n",
      "1  ...... No, oikein sopiva sattumaha se vaan oli...        1.0    1.0   10  \n",
      "2                                                40.        1.0    1.0    1  \n",
      "3             Kyseessä voi olla loppuelämäsi nainen.        2.0    2.0    5  \n",
      "4                 Sinne vaan ocean clubiin iskemään!        2.0    2.0    5  \n",
      "1.0    17480\n",
      "0.0     3795\n",
      "2.0     2505\n",
      "Name: label, dtype: int64\n",
      "2505\n",
      "0.0    2505\n",
      "1.0    2505\n",
      "2.0    2505\n",
      "Name: label, dtype: int64\n"
     ]
    },
    {
     "name": "stderr",
     "output_type": "stream",
     "text": [
      "/var/folders/bj/qp6k2wl11h5gpn8j4hg0tgf40000gn/T/ipykernel_86245/605533890.py:10: SettingWithCopyWarning: \n",
      "A value is trying to be set on a copy of a slice from a DataFrame.\n",
      "Try using .loc[row_indexer,col_indexer] = value instead\n",
      "\n",
      "See the caveats in the documentation: https://pandas.pydata.org/pandas-docs/stable/user_guide/indexing.html#returning-a-view-versus-a-copy\n",
      "  df_[\"split\"] = df_[\"text\"].str.split()\n",
      "/var/folders/bj/qp6k2wl11h5gpn8j4hg0tgf40000gn/T/ipykernel_86245/605533890.py:11: SettingWithCopyWarning: \n",
      "A value is trying to be set on a copy of a slice from a DataFrame.\n",
      "Try using .loc[row_indexer,col_indexer] = value instead\n",
      "\n",
      "See the caveats in the documentation: https://pandas.pydata.org/pandas-docs/stable/user_guide/indexing.html#returning-a-view-versus-a-copy\n",
      "  df_[\"LEN\"] = [len(x) for x in df_['split']]\n"
     ]
    }
   ],
   "source": [
    "df = get_sentiment_df(df)"
   ]
  },
  {
   "cell_type": "code",
   "execution_count": 42,
   "id": "2b194238-dd40-4a78-9ccc-5a5eecda0aa0",
   "metadata": {},
   "outputs": [],
   "source": [
    "train, val, test = split_data(df)"
   ]
  },
  {
   "cell_type": "code",
   "execution_count": 43,
   "id": "7157da2c-ffaa-4ebe-9fd3-77ae9bd13027",
   "metadata": {},
   "outputs": [],
   "source": [
    "save_dir = os.path.join(data_dir, \"preprocessed\")"
   ]
  },
  {
   "cell_type": "code",
   "execution_count": 44,
   "id": "7d10bccd-f2cc-464e-b95f-ff2fa1697b4e",
   "metadata": {},
   "outputs": [],
   "source": [
    "train.to_csv(os.path.join(save_dir, \"train.csv\"))\n",
    "test.to_csv(os.path.join(save_dir, \"test.csv\"))\n",
    "val.to_csv(os.path.join(save_dir, \"val.csv\"))\n"
   ]
  },
  {
   "cell_type": "code",
   "execution_count": null,
   "id": "2e8056f1-03cb-45cd-a409-b475d60b36e8",
   "metadata": {},
   "outputs": [],
   "source": []
  }
 ],
 "metadata": {
  "kernelspec": {
   "display_name": "base-python",
   "language": "python",
   "name": "base"
  },
  "language_info": {
   "codemirror_mode": {
    "name": "ipython",
    "version": 3
   },
   "file_extension": ".py",
   "mimetype": "text/x-python",
   "name": "python",
   "nbconvert_exporter": "python",
   "pygments_lexer": "ipython3",
   "version": "3.9.7"
  }
 },
 "nbformat": 4,
 "nbformat_minor": 5
}
