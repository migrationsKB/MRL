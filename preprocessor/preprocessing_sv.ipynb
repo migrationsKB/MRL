{
 "cells": [
  {
   "cell_type": "code",
   "execution_count": 1,
   "id": "51b815a5-709d-4358-b955-9745138de214",
   "metadata": {},
   "outputs": [],
   "source": [
    "import pandas as pd\n",
    "import os \n",
    "from collections import defaultdict\n",
    "from sklearn.utils import shuffle"
   ]
  },
  {
   "cell_type": "code",
   "execution_count": 2,
   "id": "efe8441e-3ead-4748-961b-141ee3ed3ace",
   "metadata": {},
   "outputs": [
    {
     "name": "stdout",
     "output_type": "stream",
     "text": [
      "/Users/yiyichen/PycharmProjects/MRL/preprocessor\n"
     ]
    }
   ],
   "source": [
    "!pwd\n"
   ]
  },
  {
   "cell_type": "code",
   "execution_count": 3,
   "id": "702b7f97-1de3-475c-a361-bbf18709ad97",
   "metadata": {},
   "outputs": [],
   "source": [
    "os.chdir(\"/Users/yiyichen/PycharmProjects/MRL\")"
   ]
  },
  {
   "cell_type": "code",
   "execution_count": 4,
   "id": "c7e792a3-14f9-4763-bfab-8a729af3e46c",
   "metadata": {},
   "outputs": [],
   "source": [
    "# https://github.com/valeriobasile/hurtlex\n",
    "lexica = pd.read_csv(\"datasets/sentiment_analysis/sv/ABSAbank/hurtlex_SV.tsv\", sep=\"\\t\")"
   ]
  },
  {
   "cell_type": "code",
   "execution_count": 5,
   "id": "3817e0ef-4f96-4ef3-a36d-359bb8a8c4ce",
   "metadata": {},
   "outputs": [],
   "source": [
    "lemmas = lexica.lemma.tolist()"
   ]
  },
  {
   "cell_type": "markdown",
   "id": "b189fd2c-95a3-475f-9117-04b721a8d488",
   "metadata": {},
   "source": [
    "Recommended split(s)\tParagraph level: 10-fold cross-validation. If cross-validation is impossible, use the 00 fold as the standard split. The split is random at the document level (the documents are randomly shuffled), but consecutive at the paragraph level. The reason is that if paragraphs from the same document end up in both train and test, this will make the task easier and the estimates of how well the model generalizes to new data will be less reliable (the border between test and dev or dev and train, however, may split the document in two halves. The effect of that is presumably negligible);\n"
   ]
  },
  {
   "cell_type": "code",
   "execution_count": 8,
   "id": "a9dfb35f-7ed4-4890-a363-347c471c9576",
   "metadata": {},
   "outputs": [],
   "source": [
    "data_dir = \"datasets/sentiment_analysis/sv/ABSAbank/split10_consecutive_average\""
   ]
  },
  {
   "cell_type": "code",
   "execution_count": 9,
   "id": "5423281b-b669-4593-a5a5-8e6fcd3c11b9",
   "metadata": {},
   "outputs": [],
   "source": [
    "def read_tsv(filepath, text_dict):\n",
    "    with open(filepath) as f:\n",
    "        for line in f.readlines():\n",
    "            if not line.startswith(\"doc\tpar\ttext\tlabel\"):\n",
    "                if len(line.split(\"\\t\"))==4:\n",
    "                    doc, par, text, label = line.replace(\"\\n\", \"\").split(\"\\t\")\n",
    "                    text_dict[\"doc\"].append(doc)\n",
    "                    text_dict[\"par\"].append(par)\n",
    "                    text_dict[\"text\"].append(text)\n",
    "                    text_dict[\"label\"].append(label)"
   ]
  },
  {
   "cell_type": "code",
   "execution_count": 10,
   "id": "f2997a3d-b331-4c2d-8b1d-afcc06dc599f",
   "metadata": {},
   "outputs": [],
   "source": [
    "train_dict = defaultdict(list)\n",
    "val_dict = defaultdict(list)\n",
    "test_dict = defaultdict(list)\n",
    "\n",
    "for file in os.listdir(data_dir):\n",
    "    filepath = os.path.join(data_dir, file)\n",
    "    if \"test00\" in file:\n",
    "        read_tsv(filepath, test_dict)\n",
    "    if \"train00\" in file:\n",
    "        read_tsv(filepath, train_dict)\n",
    "    if \"dev00\" in file:\n",
    "        read_tsv(filepath, val_dict)"
   ]
  },
  {
   "cell_type": "code",
   "execution_count": 11,
   "id": "83bd9c3c-59fa-4ea6-8ea4-9871472d33c1",
   "metadata": {},
   "outputs": [],
   "source": [
    "train_df= pd.DataFrame.from_dict(train_dict)\n",
    "dev_df= pd.DataFrame.from_dict(val_dict)\n",
    "test_df= pd.DataFrame.from_dict(test_dict)"
   ]
  },
  {
   "cell_type": "code",
   "execution_count": 12,
   "id": "4dd191db-1023-4640-86d2-8f38d6189cd5",
   "metadata": {},
   "outputs": [
    {
     "data": {
      "text/plain": [
       "3898"
      ]
     },
     "execution_count": 12,
     "metadata": {},
     "output_type": "execute_result"
    }
   ],
   "source": [
    "len(train_df)"
   ]
  },
  {
   "cell_type": "code",
   "execution_count": null,
   "id": "0303f5ff-2fe9-44b8-9e0d-bf1fea5f65fc",
   "metadata": {},
   "outputs": [],
   "source": []
  },
  {
   "cell_type": "markdown",
   "id": "0719a169-64ef-4ca0-95c9-5a69d5933f92",
   "metadata": {},
   "source": [
    "# Get dataset for hate speech detection"
   ]
  },
  {
   "cell_type": "code",
   "execution_count": 55,
   "id": "ec0b429f-e143-482f-8a53-1b2f1d41bc4a",
   "metadata": {},
   "outputs": [],
   "source": [
    "# 1. very negative, 2, 3, 4, 5 (very positive)"
   ]
  },
  {
   "cell_type": "code",
   "execution_count": 13,
   "id": "22e6c21a-4b16-4b23-b8e2-763bc128fca9",
   "metadata": {},
   "outputs": [],
   "source": [
    "sv_dir = \"/Users/yiyichen/PycharmProjects/MRL/datasets/hate_speech_detection/swedish/ABSAbank/preprocessed\""
   ]
  },
  {
   "cell_type": "code",
   "execution_count": 14,
   "id": "570a0737-3435-4001-b8a8-c9f11e8469ea",
   "metadata": {},
   "outputs": [],
   "source": [
    "def get_hs(df, dataset):\n",
    "    print(len(df))\n",
    "    df = df.dropna(subset=[\"label\"])\n",
    "    df.drop_duplicates(subset=[\"text\"], inplace=True)\n",
    "\n",
    "    print(len(df))\n",
    "    df['label'] = df['label'].astype(float)\n",
    "\n",
    "    df.loc[(df['label']==1) & (df[\"text\"].str.contains(\"|\".join(lemmas))), \"hsd\"]= 1 # offensive and hatespeech\n",
    "    df.loc[df['label']>=3, \"hsd\"]=0 # normal\n",
    "    print(df.hsd.value_counts())\n",
    "    df.to_csv(os.path.join(sv_dir, f\"{dataset}.csv\"), index=False)\n",
    "    return df"
   ]
  },
  {
   "cell_type": "code",
   "execution_count": 15,
   "id": "d97b46bb-c77e-4462-8759-cdd90ccca4ba",
   "metadata": {},
   "outputs": [
    {
     "name": "stdout",
     "output_type": "stream",
     "text": [
      "3898\n",
      "3884\n",
      "0.0    2679\n",
      "1.0     319\n",
      "Name: hsd, dtype: int64\n"
     ]
    }
   ],
   "source": [
    "train = get_hs(train_df, \"train\")"
   ]
  },
  {
   "cell_type": "code",
   "execution_count": 16,
   "id": "f207a46f-bf74-4fe9-b001-b78d236de6ad",
   "metadata": {},
   "outputs": [
    {
     "name": "stdout",
     "output_type": "stream",
     "text": [
      "487\n",
      "486\n",
      "0.0    282\n",
      "1.0     35\n",
      "Name: hsd, dtype: int64\n"
     ]
    }
   ],
   "source": [
    "dev = get_hs(dev_df, \"val\")"
   ]
  },
  {
   "cell_type": "code",
   "execution_count": 17,
   "id": "ac1f7572-0e1d-4377-8c19-f83349e4a800",
   "metadata": {},
   "outputs": [
    {
     "name": "stdout",
     "output_type": "stream",
     "text": [
      "487\n",
      "487\n",
      "0.0    281\n",
      "1.0     62\n",
      "Name: hsd, dtype: int64\n"
     ]
    }
   ],
   "source": [
    "test = get_hs(test_df, \"test\")"
   ]
  },
  {
   "cell_type": "code",
   "execution_count": 18,
   "id": "2446d1ca-7442-449e-b0b9-191788c8294b",
   "metadata": {},
   "outputs": [],
   "source": [
    "save_dir = \"/Users/yiyichen/PycharmProjects/MRL/datasets/hate_speech_detection/swedish/preprocessed\""
   ]
  },
  {
   "cell_type": "code",
   "execution_count": 21,
   "id": "59df7f11-4a96-4104-9fac-ae94ffde089c",
   "metadata": {},
   "outputs": [],
   "source": [
    "def get_balanced_data(df, dataset):\n",
    "    min_ = min(df.hsd.value_counts())\n",
    "    df = df.dropna(subset=[\"hsd\"])\n",
    "    df = df.groupby(\"hsd\").sample(n=min_, random_state=1)\n",
    "    df=df[['text', 'hsd']]\n",
    "    df.rename(columns={'hsd':'label'}, inplace=True)\n",
    "    df= shuffle(df)\n",
    "    df.to_csv(os.path.join(save_dir, f\"{dataset}.csv\"), index=False)\n",
    "    print(df.label.value_counts())\n",
    "    return df"
   ]
  },
  {
   "cell_type": "code",
   "execution_count": 22,
   "id": "0bac2783-bdd7-4de8-b281-50d58ab0c1a8",
   "metadata": {},
   "outputs": [
    {
     "name": "stdout",
     "output_type": "stream",
     "text": [
      "0.0    319\n",
      "1.0    319\n",
      "Name: label, dtype: int64\n",
      "0.0    35\n",
      "1.0    35\n",
      "Name: label, dtype: int64\n",
      "0.0    62\n",
      "1.0    62\n",
      "Name: label, dtype: int64\n"
     ]
    }
   ],
   "source": [
    "train_ = get_balanced_data(train, \"train\")\n",
    "dev_ = get_balanced_data(dev, \"val\")\n",
    "test_ = get_balanced_data(test, \"test\")"
   ]
  },
  {
   "cell_type": "code",
   "execution_count": 32,
   "id": "6d0ff508-649d-41de-ad1c-affc817b3f29",
   "metadata": {},
   "outputs": [],
   "source": [
    "df= pd.concat([train_, dev_, test_])"
   ]
  },
  {
   "cell_type": "code",
   "execution_count": 33,
   "id": "e89b9dc3-4adf-482d-9077-5b3954a7b7f9",
   "metadata": {},
   "outputs": [
    {
     "data": {
      "text/plain": [
       "0.0    1248\n",
       "1.0    1248\n",
       "Name: label, dtype: int64"
      ]
     },
     "execution_count": 33,
     "metadata": {},
     "output_type": "execute_result"
    }
   ],
   "source": [
    "df.label.value_counts()"
   ]
  },
  {
   "cell_type": "code",
   "execution_count": 34,
   "id": "079a0780-ac6f-4c9a-8365-76371f16f863",
   "metadata": {},
   "outputs": [],
   "source": [
    "df = df.drop_duplicates(subset=[\"text\"])"
   ]
  },
  {
   "cell_type": "code",
   "execution_count": 35,
   "id": "105a3064-5a4c-4f57-8968-a2b4484c59d6",
   "metadata": {},
   "outputs": [
    {
     "data": {
      "text/plain": [
       "0.0    1043\n",
       "1.0     416\n",
       "Name: label, dtype: int64"
      ]
     },
     "execution_count": 35,
     "metadata": {},
     "output_type": "execute_result"
    }
   ],
   "source": [
    "df.label.value_counts()"
   ]
  },
  {
   "cell_type": "code",
   "execution_count": null,
   "id": "8d55fac8-5326-4c1d-88b8-c07f3365b562",
   "metadata": {},
   "outputs": [],
   "source": [
    "# 80, 10,10"
   ]
  },
  {
   "cell_type": "code",
   "execution_count": null,
   "id": "2d80639c-9ce0-4ba6-90f2-2be3fcf1c777",
   "metadata": {},
   "outputs": [],
   "source": []
  },
  {
   "cell_type": "markdown",
   "id": "caec2da1-abe3-4f3b-b2b8-3dad3aebad31",
   "metadata": {},
   "source": [
    "# get dataset for sentiment analysis"
   ]
  },
  {
   "cell_type": "code",
   "execution_count": 23,
   "id": "108b258a-cce4-4194-b839-bc6bc08150ff",
   "metadata": {},
   "outputs": [
    {
     "data": {
      "text/plain": [
       "'datasets/sentiment_analysis/sv/ABSAbank/split10_consecutive_average'"
      ]
     },
     "execution_count": 23,
     "metadata": {},
     "output_type": "execute_result"
    }
   ],
   "source": [
    "data_dir"
   ]
  },
  {
   "cell_type": "code",
   "execution_count": 24,
   "id": "2358da6b-4416-48e5-9bb2-1edcef8565b9",
   "metadata": {},
   "outputs": [
    {
     "data": {
      "text/plain": [
       "Index(['doc', 'par', 'text', 'label'], dtype='object')"
      ]
     },
     "execution_count": 24,
     "metadata": {},
     "output_type": "execute_result"
    }
   ],
   "source": [
    "train_df.columns"
   ]
  },
  {
   "cell_type": "code",
   "execution_count": 25,
   "id": "b75ec802-e06c-4fe2-9e13-c53aa8673d7c",
   "metadata": {},
   "outputs": [],
   "source": [
    "def get_sentiment(df, dataset):\n",
    "    df[\"label\"] = df[\"label\"].astype(float)\n",
    "    df.loc[df['label']==3, \"sentiment\"]= 1 # neutral\n",
    "    df.loc[df['label']>=4, \"sentiment\"]= 2 # positive\n",
    "    df.loc[df['label']<=2, \"sentiment\"]= 0 # negative\n",
    "    print(df.sentiment.value_counts())\n",
    "    print(df.head(2))\n",
    "\n",
    "    values = df.sentiment.value_counts()\n",
    "    print(values)\n",
    "    min_value = min(values)\n",
    "    print(min_value)\n",
    "    df.dropna(subset=[\"sentiment\"], inplace=True)\n",
    "    df= df[['text', 'sentiment']]\n",
    "    df.rename(columns={'sentiment':'label'}, inplace=True)\n",
    "    df = df.groupby(\"label\").sample(min_value)\n",
    "    print(df.label.value_counts())\n",
    "    df.to_csv(f\"datasets/sentiment_analysis/sv/preprocessed/{dataset}.csv\", index=False)\n",
    "    return df"
   ]
  },
  {
   "cell_type": "code",
   "execution_count": 26,
   "id": "f85c9c22-a62d-4168-95a5-206f1c0ca4be",
   "metadata": {},
   "outputs": [
    {
     "name": "stdout",
     "output_type": "stream",
     "text": [
      "1.0    1793\n",
      "0.0    1179\n",
      "2.0     835\n",
      "Name: sentiment, dtype: int64\n",
      "                         doc par  \\\n",
      "0  z02679_flashback-50294563   3   \n",
      "1  z02679_flashback-50294563   5   \n",
      "\n",
      "                                                text  label  sentiment  \n",
      "0  Förklarar regeringen och tidigare regeringars ...    3.0        1.0  \n",
      "1  Kom gärna med förslag på olika samband mellan ...    3.0        1.0  \n",
      "1.0    1793\n",
      "0.0    1179\n",
      "2.0     835\n",
      "Name: sentiment, dtype: int64\n",
      "835\n",
      "0.0    835\n",
      "1.0    835\n",
      "2.0    835\n",
      "Name: label, dtype: int64\n"
     ]
    },
    {
     "name": "stderr",
     "output_type": "stream",
     "text": [
      "/opt/homebrew/Caskroom/miniforge/base/lib/python3.9/site-packages/pandas/core/frame.py:5039: SettingWithCopyWarning: \n",
      "A value is trying to be set on a copy of a slice from a DataFrame\n",
      "\n",
      "See the caveats in the documentation: https://pandas.pydata.org/pandas-docs/stable/user_guide/indexing.html#returning-a-view-versus-a-copy\n",
      "  return super().rename(\n"
     ]
    }
   ],
   "source": [
    "train_df_ = get_sentiment(train_df, \"train\")"
   ]
  },
  {
   "cell_type": "code",
   "execution_count": 27,
   "id": "29cb0dfc-ee16-4ac3-b2ba-ff5952d6439c",
   "metadata": {},
   "outputs": [
    {
     "name": "stdout",
     "output_type": "stream",
     "text": [
      "1.0    230\n",
      "0.0    202\n",
      "2.0     50\n",
      "Name: sentiment, dtype: int64\n",
      "                         doc par  \\\n",
      "0  z01627_flashback-60850068   2   \n",
      "1  z01627_flashback-60850068   3   \n",
      "\n",
      "                                                text  label  sentiment  \n",
      "0  All invandring är inte dålig men få kan förnek...    2.0        0.0  \n",
      "1  Ser man tillbaka i tiden så var det bättre på ...    2.0        0.0  \n",
      "1.0    230\n",
      "0.0    202\n",
      "2.0     50\n",
      "Name: sentiment, dtype: int64\n",
      "50\n",
      "0.0    50\n",
      "1.0    50\n",
      "2.0    50\n",
      "Name: label, dtype: int64\n"
     ]
    },
    {
     "name": "stderr",
     "output_type": "stream",
     "text": [
      "/opt/homebrew/Caskroom/miniforge/base/lib/python3.9/site-packages/pandas/core/frame.py:5039: SettingWithCopyWarning: \n",
      "A value is trying to be set on a copy of a slice from a DataFrame\n",
      "\n",
      "See the caveats in the documentation: https://pandas.pydata.org/pandas-docs/stable/user_guide/indexing.html#returning-a-view-versus-a-copy\n",
      "  return super().rename(\n"
     ]
    }
   ],
   "source": [
    "test_df_ = get_sentiment(test_df, \"test\")"
   ]
  },
  {
   "cell_type": "code",
   "execution_count": 28,
   "id": "0dd898cc-9b8d-4c46-a282-98d3dfcb2098",
   "metadata": {},
   "outputs": [
    {
     "name": "stdout",
     "output_type": "stream",
     "text": [
      "1.0    209\n",
      "0.0    198\n",
      "2.0     68\n",
      "Name: sentiment, dtype: int64\n",
      "                                            doc par  \\\n",
      "0  www_aftonbladet_se_debatt_article22871619_ab   5   \n",
      "1  www_aftonbladet_se_debatt_article22871619_ab   6   \n",
      "\n",
      "                                                text     label  sentiment  \n",
      "0  Att vara intresserad av hemländernas politik ä...  3.000000        1.0  \n",
      "1  Tyvärr verkar det som om några partier har bli...  2.666667        NaN  \n",
      "1.0    209\n",
      "0.0    198\n",
      "2.0     68\n",
      "Name: sentiment, dtype: int64\n",
      "68\n",
      "0.0    68\n",
      "1.0    68\n",
      "2.0    68\n",
      "Name: label, dtype: int64\n"
     ]
    },
    {
     "name": "stderr",
     "output_type": "stream",
     "text": [
      "/opt/homebrew/Caskroom/miniforge/base/lib/python3.9/site-packages/pandas/core/frame.py:5039: SettingWithCopyWarning: \n",
      "A value is trying to be set on a copy of a slice from a DataFrame\n",
      "\n",
      "See the caveats in the documentation: https://pandas.pydata.org/pandas-docs/stable/user_guide/indexing.html#returning-a-view-versus-a-copy\n",
      "  return super().rename(\n"
     ]
    }
   ],
   "source": [
    "dev_df_ = get_sentiment(dev_df, \"val\")"
   ]
  },
  {
   "cell_type": "code",
   "execution_count": null,
   "id": "629d4b22-15c4-4f16-9f55-238dc60d2bd4",
   "metadata": {},
   "outputs": [],
   "source": []
  },
  {
   "cell_type": "code",
   "execution_count": null,
   "id": "54fd8cd7-c67f-4f51-bb54-ee598f20337a",
   "metadata": {},
   "outputs": [],
   "source": []
  },
  {
   "cell_type": "code",
   "execution_count": 61,
   "id": "110f2462-35f9-45ca-8652-9ffc06cc85a7",
   "metadata": {},
   "outputs": [],
   "source": [
    "sv_dir = \"/Users/yiyichen/PycharmProjects/MRL/datasets/sentiment_analysis/sv\""
   ]
  },
  {
   "cell_type": "code",
   "execution_count": 62,
   "id": "c757f4e6-73bc-42a0-982e-638aa250e72f",
   "metadata": {},
   "outputs": [],
   "source": [
    "train_len, val_len, test_len = 1839, 324, 870"
   ]
  },
  {
   "cell_type": "code",
   "execution_count": 69,
   "id": "2e4d643e-05f1-496e-b187-7c75a700a735",
   "metadata": {},
   "outputs": [],
   "source": [
    "from sklearn.utils import shuffle\n",
    "def get_balanced_df(df, LEN):\n",
    "    df= df.groupby(\"label\").sample(LEN)\n",
    "    print(df.label.value_counts())\n",
    "    df= shuffle(df)\n",
    "    return df"
   ]
  },
  {
   "cell_type": "code",
   "execution_count": 70,
   "id": "39011782-5eb1-4d7e-992d-05bab2d40afc",
   "metadata": {},
   "outputs": [
    {
     "name": "stdout",
     "output_type": "stream",
     "text": [
      "0.0    613\n",
      "1.0    613\n",
      "2.0    613\n",
      "Name: label, dtype: int64\n",
      "0.0    290\n",
      "1.0    290\n",
      "2.0    290\n",
      "Name: label, dtype: int64\n",
      "0.0    108\n",
      "1.0    108\n",
      "2.0    108\n",
      "Name: label, dtype: int64\n"
     ]
    }
   ],
   "source": [
    "train_b = get_balanced_df(train_df, int(train_len/3))\n",
    "test_b = get_balanced_df(test_df, int(test_len/3))\n",
    "dev_b = get_balanced_df(dev_df, int(val_len/3))"
   ]
  },
  {
   "cell_type": "code",
   "execution_count": 72,
   "id": "d090392d-6745-4bbc-bc14-2a82ece373d2",
   "metadata": {},
   "outputs": [],
   "source": [
    "train_b.to_csv(os.path.join(sv_dir, \"train.csv\"))\n",
    "test_b.to_csv(os.path.join(sv_dir, \"test.csv\"))\n",
    "dev_b.to_csv(os.path.join(sv_dir, \"val.csv\"))"
   ]
  },
  {
   "cell_type": "code",
   "execution_count": null,
   "id": "0ab06c2a-da56-463b-9ef5-d3e42769b5b3",
   "metadata": {},
   "outputs": [],
   "source": []
  }
 ],
 "metadata": {
  "kernelspec": {
   "display_name": "base-python",
   "language": "python",
   "name": "base"
  },
  "language_info": {
   "codemirror_mode": {
    "name": "ipython",
    "version": 3
   },
   "file_extension": ".py",
   "mimetype": "text/x-python",
   "name": "python",
   "nbconvert_exporter": "python",
   "pygments_lexer": "ipython3",
   "version": "3.9.7"
  }
 },
 "nbformat": 4,
 "nbformat_minor": 5
}
