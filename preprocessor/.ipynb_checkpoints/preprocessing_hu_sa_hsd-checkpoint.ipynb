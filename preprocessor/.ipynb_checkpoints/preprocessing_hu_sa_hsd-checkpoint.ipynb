{
 "cells": [
  {
   "cell_type": "code",
   "execution_count": 29,
   "id": "43a03b0d-cfb7-4f49-a9a9-e5518fdf3bb4",
   "metadata": {},
   "outputs": [],
   "source": [
    "import os\n",
    "import argparse\n",
    "\n",
    "import polars as pl\n",
    "from sklearn.utils import shuffle\n",
    "from sklearn.model_selection import train_test_split\n",
    "import pandas as pd"
   ]
  },
  {
   "cell_type": "code",
   "execution_count": 30,
   "id": "11e0444c-1cf9-43c8-9d9e-8c06c9ac4ee1",
   "metadata": {},
   "outputs": [
    {
     "name": "stdout",
     "output_type": "stream",
     "text": [
      "/Users/yiyichen/PycharmProjects/MRL\n"
     ]
    }
   ],
   "source": [
    "!pwd"
   ]
  },
  {
   "cell_type": "code",
   "execution_count": 31,
   "id": "ba1b60b6-e80f-47d9-99be-2d25e76b73c7",
   "metadata": {},
   "outputs": [],
   "source": [
    "os.chdir(\"/Users/yiyichen/PycharmProjects/MRL/\")"
   ]
  },
  {
   "cell_type": "code",
   "execution_count": 32,
   "id": "fd715317-cc34-4492-b9ff-b32b5bac0e7d",
   "metadata": {},
   "outputs": [
    {
     "name": "stdout",
     "output_type": "stream",
     "text": [
      "/Users/yiyichen/PycharmProjects/MRL\n"
     ]
    }
   ],
   "source": [
    "!pwd"
   ]
  },
  {
   "cell_type": "code",
   "execution_count": 47,
   "id": "88d7abc2-dc8e-4dec-8798-a1855a8d25b8",
   "metadata": {},
   "outputs": [],
   "source": [
    "def split_data(df):\n",
    "    train, test_val = train_test_split(df, test_size=0.2, random_state=1, shuffle=True)\n",
    "    val, test = train_test_split(test_val, test_size=0.5,random_state=1, shuffle=True)\n",
    "    return train, val, test"
   ]
  },
  {
   "cell_type": "code",
   "execution_count": null,
   "id": "d8099479-944c-494c-bb13-bdbe40114120",
   "metadata": {},
   "outputs": [],
   "source": []
  },
  {
   "cell_type": "markdown",
   "id": "a62b3cef-0b09-4578-b0d9-935ef94a8da8",
   "metadata": {},
   "source": [
    "# Hatespeech dataset\n",
    "- not adequate, do not use this method."
   ]
  },
  {
   "cell_type": "code",
   "execution_count": 33,
   "id": "b9c1da4a-f3ca-47fc-9700-aec5a7b2c751",
   "metadata": {},
   "outputs": [
    {
     "name": "stdout",
     "output_type": "stream",
     "text": [
      "   ID  START  LEN           Entity  \\\n",
      "0   1     28    2      Schmitt Pál   \n",
      "1   2      7    2  Matolcsy György   \n",
      "2   3     15    2  Szijjártó Péter   \n",
      "3   4     18    2     Szabó Attila   \n",
      "4   5     12    2        P. Zoltán   \n",
      "\n",
      "                                            Sentence  \\\n",
      "0  A magyarok tiszta, egyértelmű, vállalható, jól...   \n",
      "1  A szóvivő megerősítette: a kabinet Matolcsy Gy...   \n",
      "2  A nyugdíjasok utazási kedvezményének megvonása...   \n",
      "3  Itt találta el az a lövés, amellyel egy vadász...   \n",
      "4  Egy csempész ismerőse szintén ,,cigiben utazó\"...   \n",
      "\n",
      "                                                 URL  Annot1  Annot2  Annot3  \\\n",
      "0  http://kecskemetitv.hu/hun/sa_kecskemet/i_belf...       0       0       0   \n",
      "1  http://mti.hu/article-proxy/2011/02/18/szijjar...       0       0       0   \n",
      "2  http://mti.hu/article-proxy/2011/02/18/szijjar...       0       0       0   \n",
      "3  http://kecskemetitv.hu/hun/sa_zuschlag_per_kec...       0       0       0   \n",
      "4  http://atv.hu/bunugy/20110223_felesegevel_egyu...       0      -1      -1   \n",
      "\n",
      "   Annot4  Annot5  \n",
      "0       0       0  \n",
      "1       0       0  \n",
      "2       0       0  \n",
      "3       0       0  \n",
      "4      -1      -1  \n"
     ]
    }
   ],
   "source": [
    "dataset_path = \"datasets/sentiment_analysis/hu/\"\n",
    "save_dir = os.path.join(\"datasets/hate_speech_detection/hungarian\", \"preprocessed\")\n",
    "datapath = os.path.join(dataset_path, \"OpinHuBank_20130106.csv\")\n",
    "df = pd.read_csv(datapath,  encoding = \"ISO-8859-2\")\n",
    "print(df.head())\n",
    "lexica = pd.read_csv(os.path.join(dataset_path, \"hurtlex_HU.tsv\"), sep=\"\\t\")"
   ]
  },
  {
   "cell_type": "code",
   "execution_count": 34,
   "id": "268fa7e9-9362-45e6-bf11-94ddc125dde4",
   "metadata": {},
   "outputs": [],
   "source": [
    "lemmas = lexica.lemma.tolist()"
   ]
  },
  {
   "cell_type": "code",
   "execution_count": 35,
   "id": "681cdd89-94c0-46f0-9ded-0448f9916a33",
   "metadata": {},
   "outputs": [],
   "source": [
    "df['label'] = df[[\"Annot1\", \"Annot2\", \"Annot3\", \"Annot4\", \"Annot5\"]].mode(axis=1)[0]"
   ]
  },
  {
   "cell_type": "code",
   "execution_count": 36,
   "id": "4193db5a-9394-4553-9636-8a854fe7e593",
   "metadata": {},
   "outputs": [
    {
     "data": {
      "text/plain": [
       " 0.0    7419\n",
       "-1.0    1693\n",
       " 1.0     894\n",
       "Name: label, dtype: int64"
      ]
     },
     "execution_count": 36,
     "metadata": {},
     "output_type": "execute_result"
    }
   ],
   "source": [
    "df.label.value_counts()"
   ]
  },
  {
   "cell_type": "code",
   "execution_count": 37,
   "id": "d00fc12f-f624-4df9-b80a-bdd4ec9804ae",
   "metadata": {},
   "outputs": [],
   "source": [
    "def get_hs(df):\n",
    "    df.loc[(df['label']==-1) & (df[\"Sentence\"].str.contains(\"|\".join(lemmas))), \"hsd\"]= 1 # offensive and hatespeech\n",
    "    df.loc[df['label']>=0, \"hsd\"]=0 # normal\n",
    "    print(df.hsd.value_counts())\n",
    "    # df.to_csv(os.path.join(sv_dir, f\"{dataset}.csv\"), index=False)\n",
    "    return df"
   ]
  },
  {
   "cell_type": "code",
   "execution_count": 38,
   "id": "b125b9df-4ea8-4e81-ba7a-761b1552c2e7",
   "metadata": {},
   "outputs": [
    {
     "name": "stdout",
     "output_type": "stream",
     "text": [
      "0.0    8313\n",
      "1.0    1279\n",
      "Name: hsd, dtype: int64\n"
     ]
    }
   ],
   "source": [
    "df = get_hs(df)"
   ]
  },
  {
   "cell_type": "code",
   "execution_count": 39,
   "id": "871977e5-edad-402b-abf8-acd3b040151f",
   "metadata": {},
   "outputs": [],
   "source": [
    "df= df.dropna(subset=['hsd'])"
   ]
  },
  {
   "cell_type": "code",
   "execution_count": 40,
   "id": "3af05d04-70f6-4072-8307-db49a280c35d",
   "metadata": {},
   "outputs": [
    {
     "data": {
      "text/plain": [
       "1637    Sem azt nem tűrhetem, hogy a liberális, cionis...\n",
       "Name: Sentence, dtype: object"
      ]
     },
     "execution_count": 40,
     "metadata": {},
     "output_type": "execute_result"
    }
   ],
   "source": [
    "df[df.hsd==1].sample(1).Sentence"
   ]
  },
  {
   "cell_type": "code",
   "execution_count": 42,
   "id": "8eddcc58-00f7-43d9-a434-8272acb6dfaa",
   "metadata": {},
   "outputs": [],
   "source": [
    "df = df[[\"Sentence\", \"hsd\"]]"
   ]
  },
  {
   "cell_type": "code",
   "execution_count": 44,
   "id": "84593744-6fca-47ff-baec-f6fefcc50f96",
   "metadata": {},
   "outputs": [
    {
     "name": "stderr",
     "output_type": "stream",
     "text": [
      "/opt/homebrew/Caskroom/miniforge/base/lib/python3.9/site-packages/pandas/core/frame.py:5039: SettingWithCopyWarning: \n",
      "A value is trying to be set on a copy of a slice from a DataFrame\n",
      "\n",
      "See the caveats in the documentation: https://pandas.pydata.org/pandas-docs/stable/user_guide/indexing.html#returning-a-view-versus-a-copy\n",
      "  return super().rename(\n"
     ]
    }
   ],
   "source": [
    "df.rename(columns= {\"Sentence\":\"text\", \"hsd\":\"label\"}, inplace=True)"
   ]
  },
  {
   "cell_type": "code",
   "execution_count": 46,
   "id": "73a60c8c-4794-40cf-abd4-f6fed001ab2e",
   "metadata": {},
   "outputs": [
    {
     "data": {
      "text/plain": [
       "0.0    8313\n",
       "1.0    1279\n",
       "Name: label, dtype: int64"
      ]
     },
     "execution_count": 46,
     "metadata": {},
     "output_type": "execute_result"
    }
   ],
   "source": [
    "df.label.value_counts()"
   ]
  },
  {
   "cell_type": "code",
   "execution_count": 48,
   "id": "70b8bf8f-478a-4976-a08f-3b6c1b59b607",
   "metadata": {},
   "outputs": [],
   "source": [
    "df = df.groupby(\"label\").sample(1279)\n",
    "df = shuffle(df)"
   ]
  },
  {
   "cell_type": "code",
   "execution_count": 49,
   "id": "cee086ff-d375-476a-a744-3a35246057b5",
   "metadata": {},
   "outputs": [],
   "source": [
    "train, val, test = split_data(df)\n"
   ]
  },
  {
   "cell_type": "code",
   "execution_count": 50,
   "id": "a1ab78f1-6a15-4946-a1e7-ae4c872c22b1",
   "metadata": {},
   "outputs": [],
   "source": [
    "train.to_csv(os.path.join(save_dir, \"train.csv\"))\n",
    "val.to_csv(os.path.join(save_dir, \"val.csv\"))\n",
    "test.to_csv(os.path.join(save_dir, \"test.csv\"))"
   ]
  },
  {
   "cell_type": "markdown",
   "id": "ef05258f-aad5-4124-a5d5-c32b36a111b4",
   "metadata": {},
   "source": [
    "# Sentiment analysis dataset"
   ]
  },
  {
   "cell_type": "code",
   "execution_count": null,
   "id": "4a674b0a-3e59-4671-bde7-4b8dbe6b1830",
   "metadata": {},
   "outputs": [],
   "source": []
  },
  {
   "cell_type": "code",
   "execution_count": null,
   "id": "846ef8f4-5e32-43af-a279-cffc2904a725",
   "metadata": {},
   "outputs": [
    {
     "name": "stdout",
     "output_type": "stream",
     "text": [
      "   ID  START  LEN           Entity  \\\n",
      "0   1     28    2      Schmitt Pál   \n",
      "1   2      7    2  Matolcsy György   \n",
      "2   3     15    2  Szijjártó Péter   \n",
      "3   4     18    2     Szabó Attila   \n",
      "4   5     12    2        P. Zoltán   \n",
      "\n",
      "                                            Sentence  \\\n",
      "0  A magyarok tiszta, egyértelmű, vállalható, jól...   \n",
      "1  A szóvivő megerősítette: a kabinet Matolcsy Gy...   \n",
      "2  A nyugdíjasok utazási kedvezményének megvonása...   \n",
      "3  Itt találta el az a lövés, amellyel egy vadász...   \n",
      "4  Egy csempész ismerőse szintén ,,cigiben utazó\"...   \n",
      "\n",
      "                                                 URL  Annot1  Annot2  Annot3  \\\n",
      "0  http://kecskemetitv.hu/hun/sa_kecskemet/i_belf...       0       0       0   \n",
      "1  http://mti.hu/article-proxy/2011/02/18/szijjar...       0       0       0   \n",
      "2  http://mti.hu/article-proxy/2011/02/18/szijjar...       0       0       0   \n",
      "3  http://kecskemetitv.hu/hun/sa_zuschlag_per_kec...       0       0       0   \n",
      "4  http://atv.hu/bunugy/20110223_felesegevel_egyu...       0      -1      -1   \n",
      "\n",
      "   Annot4  Annot5  \n",
      "0       0       0  \n",
      "1       0       0  \n",
      "2       0       0  \n",
      "3       0       0  \n",
      "4      -1      -1  \n"
     ]
    }
   ],
   "source": [
    "dataset_path = \"datasets/sentiment_analysis/hu/\"\n",
    "save_dir = os.path.join(dataset_path, \"preprocessed\")\n",
    "datapath = os.path.join(dataset_path, \"OpinHuBank_20130106.csv\")\n",
    "df = pd.read_csv(datapath,  encoding = \"ISO-8859-2\")\n",
    "print(df.head())"
   ]
  },
  {
   "cell_type": "code",
   "execution_count": 14,
   "id": "4e1b8df8-4f52-47b2-ba06-b0728fd03cf8",
   "metadata": {},
   "outputs": [
    {
     "data": {
      "text/plain": [
       "10006"
      ]
     },
     "execution_count": 14,
     "metadata": {},
     "output_type": "execute_result"
    }
   ],
   "source": [
    "len(df)"
   ]
  },
  {
   "cell_type": "code",
   "execution_count": 25,
   "id": "d532c798-3526-4096-a6ad-f136ba3b9aa0",
   "metadata": {},
   "outputs": [],
   "source": [
    "df_4 = df[df[[\"Annot1\", \"Annot2\", \"Annot3\", \"Annot4\", \"Annot5\"]].apply(pd.Series.nunique, axis=1)==2]"
   ]
  },
  {
   "cell_type": "code",
   "execution_count": 17,
   "id": "9a4e7c08-c0fa-4ce2-a562-fb9eea1a8289",
   "metadata": {},
   "outputs": [],
   "source": [
    "df_5 = df[df[[\"Annot1\", \"Annot2\", \"Annot3\", \"Annot4\", \"Annot5\"]].apply(pd.Series.nunique, axis=1)==1]"
   ]
  },
  {
   "cell_type": "code",
   "execution_count": 26,
   "id": "639bfac5-ce89-4054-9c29-c4181036ed97",
   "metadata": {},
   "outputs": [
    {
     "data": {
      "text/plain": [
       "2893"
      ]
     },
     "execution_count": 26,
     "metadata": {},
     "output_type": "execute_result"
    }
   ],
   "source": [
    "len(df_4)"
   ]
  },
  {
   "cell_type": "code",
   "execution_count": 31,
   "id": "4e057b9c-d72b-4ec5-90ad-2093f8402fa8",
   "metadata": {},
   "outputs": [],
   "source": [
    "first_row = df.iloc[0]"
   ]
  },
  {
   "cell_type": "code",
   "execution_count": 32,
   "id": "3895a1c0-a346-4b87-9c20-711ee57876e7",
   "metadata": {},
   "outputs": [
    {
     "data": {
      "text/plain": [
       "ID                                                          1\n",
       "START                                                      28\n",
       "LEN                                                         2\n",
       "Entity                                            Schmitt Pál\n",
       "Sentence    A magyarok tiszta, egyértelmû, vállalható, jól...\n",
       "URL         http://kecskemetitv.hu/hun/sa_kecskemet/i_belf...\n",
       "Annot1                                                      0\n",
       "Annot2                                                      0\n",
       "Annot3                                                      0\n",
       "Annot4                                                      0\n",
       "Annot5                                                      0\n",
       "Name: 0, dtype: object"
      ]
     },
     "execution_count": 32,
     "metadata": {},
     "output_type": "execute_result"
    }
   ],
   "source": [
    "first_row"
   ]
  },
  {
   "cell_type": "code",
   "execution_count": 37,
   "id": "22de7698-3287-4e1f-b78b-be0bebad25ec",
   "metadata": {},
   "outputs": [],
   "source": [
    "df['label'] = df[[\"Annot1\", \"Annot2\", \"Annot3\", \"Annot4\", \"Annot5\"]].mode(axis=1)[0]"
   ]
  },
  {
   "cell_type": "code",
   "execution_count": 40,
   "id": "cb514afc-f38f-4bb9-8865-d41513cc605c",
   "metadata": {},
   "outputs": [],
   "source": [
    "df['label'].replace(to_replace=[-1,0,1], value=[0,1,2], inplace=True)\n"
   ]
  },
  {
   "cell_type": "code",
   "execution_count": 41,
   "id": "a3f9fd5d-8d75-4cf5-91d7-0eea83353f24",
   "metadata": {},
   "outputs": [
    {
     "data": {
      "text/plain": [
       "1.0    7419\n",
       "0.0    1693\n",
       "2.0     894\n",
       "Name: label, dtype: int64"
      ]
     },
     "execution_count": 41,
     "metadata": {},
     "output_type": "execute_result"
    }
   ],
   "source": [
    "df['label'].value_counts()"
   ]
  },
  {
   "cell_type": "code",
   "execution_count": 28,
   "id": "6b331763-f3d4-475b-98d4-790a272d9edb",
   "metadata": {},
   "outputs": [
    {
     "data": {
      "text/plain": [
       "(1839, 324, 870, 3033)"
      ]
     },
     "execution_count": 28,
     "metadata": {},
     "output_type": "execute_result"
    }
   ],
   "source": [
    "train_nr, dev_nr, test_nr, train_nr + dev_nr + test_nr, "
   ]
  },
  {
   "cell_type": "code",
   "execution_count": 44,
   "id": "64e9612f-f5dd-4817-8a6c-1d8461af1d46",
   "metadata": {},
   "outputs": [],
   "source": [
    "df_pos = df[df['label']==2]"
   ]
  },
  {
   "cell_type": "code",
   "execution_count": 50,
   "id": "1e1141e8-9acb-4364-b424-3e8b6ef0463d",
   "metadata": {},
   "outputs": [],
   "source": [
    "df_neg = df[df['label']==0].sample(1069)"
   ]
  },
  {
   "cell_type": "code",
   "execution_count": 51,
   "id": "158919eb-b9b0-4def-8503-45cc163398c3",
   "metadata": {},
   "outputs": [],
   "source": [
    "df_neu = df[df['label']==1].sample(1070)"
   ]
  },
  {
   "cell_type": "code",
   "execution_count": 52,
   "id": "adcf5271-be22-4754-8fd7-4e3341fcbc3e",
   "metadata": {},
   "outputs": [
    {
     "data": {
      "text/plain": [
       "3033"
      ]
     },
     "execution_count": 52,
     "metadata": {},
     "output_type": "execute_result"
    }
   ],
   "source": [
    "len(df_pos)+len(df_neg)+len(df_neu)"
   ]
  },
  {
   "cell_type": "code",
   "execution_count": 57,
   "id": "2d4f0371-19f6-401f-b894-bc7af6c2d4d1",
   "metadata": {},
   "outputs": [],
   "source": [
    "df_concat = pd.concat([df_pos,df_neg, df_neu])"
   ]
  },
  {
   "cell_type": "code",
   "execution_count": 58,
   "id": "cebf2e85-ede4-4a07-8ea8-214f8aff8f44",
   "metadata": {},
   "outputs": [],
   "source": [
    "df_new = df_concat[['Sentence', 'label']]"
   ]
  },
  {
   "cell_type": "code",
   "execution_count": 63,
   "id": "f7454f21-da00-45d2-8020-4e012c7fd141",
   "metadata": {},
   "outputs": [],
   "source": [
    "from sklearn.model_selection import train_test_split"
   ]
  },
  {
   "cell_type": "code",
   "execution_count": 67,
   "id": "1f95cb8a-44d8-4a7b-901c-43719fd6286d",
   "metadata": {},
   "outputs": [],
   "source": [
    "train, test_dev= train_test_split(df_new, test_size=0.39)"
   ]
  },
  {
   "cell_type": "code",
   "execution_count": 68,
   "id": "28cbef7f-81de-40c5-9931-46c6880845ae",
   "metadata": {},
   "outputs": [],
   "source": [
    "dev, test = train_test_split(test_dev, test_size=0.27)"
   ]
  },
  {
   "cell_type": "code",
   "execution_count": 69,
   "id": "048c2c7d-9647-4dff-a696-e2c89fbb51d2",
   "metadata": {},
   "outputs": [
    {
     "data": {
      "text/plain": [
       "(1850, 863, 320)"
      ]
     },
     "execution_count": 69,
     "metadata": {},
     "output_type": "execute_result"
    }
   ],
   "source": [
    "len(train), len(dev), len(test)"
   ]
  },
  {
   "cell_type": "code",
   "execution_count": 71,
   "id": "ace2751c-c968-480b-b7f0-ac9904fb5e82",
   "metadata": {},
   "outputs": [
    {
     "data": {
      "text/html": [
       "<div>\n",
       "<style scoped>\n",
       "    .dataframe tbody tr th:only-of-type {\n",
       "        vertical-align: middle;\n",
       "    }\n",
       "\n",
       "    .dataframe tbody tr th {\n",
       "        vertical-align: top;\n",
       "    }\n",
       "\n",
       "    .dataframe thead th {\n",
       "        text-align: right;\n",
       "    }\n",
       "</style>\n",
       "<table border=\"1\" class=\"dataframe\">\n",
       "  <thead>\n",
       "    <tr style=\"text-align: right;\">\n",
       "      <th></th>\n",
       "      <th>Sentence</th>\n",
       "      <th>label</th>\n",
       "    </tr>\n",
       "  </thead>\n",
       "  <tbody>\n",
       "    <tr>\n",
       "      <th>8328</th>\n",
       "      <td>Vona Gábor hangsúlyozta: a beszéd gazdasági és...</td>\n",
       "      <td>1.0</td>\n",
       "    </tr>\n",
       "    <tr>\n",
       "      <th>6788</th>\n",
       "      <td>A magyar és román állampolgárságú Tóásó Elõdöt...</td>\n",
       "      <td>0.0</td>\n",
       "    </tr>\n",
       "    <tr>\n",
       "      <th>2374</th>\n",
       "      <td>Gréczy Zsolttal jól kiszúrtak a félárboccal ha...</td>\n",
       "      <td>0.0</td>\n",
       "    </tr>\n",
       "    <tr>\n",
       "      <th>5494</th>\n",
       "      <td>Medgyessy Péter elmondta: elégedetlen volt az ...</td>\n",
       "      <td>1.0</td>\n",
       "    </tr>\n",
       "    <tr>\n",
       "      <th>1311</th>\n",
       "      <td>2002-ben Halász Judit, majd Garas Dezsõ, Királ...</td>\n",
       "      <td>2.0</td>\n",
       "    </tr>\n",
       "  </tbody>\n",
       "</table>\n",
       "</div>"
      ],
      "text/plain": [
       "                                               Sentence  label\n",
       "8328  Vona Gábor hangsúlyozta: a beszéd gazdasági és...    1.0\n",
       "6788  A magyar és román állampolgárságú Tóásó Elõdöt...    0.0\n",
       "2374  Gréczy Zsolttal jól kiszúrtak a félárboccal ha...    0.0\n",
       "5494  Medgyessy Péter elmondta: elégedetlen volt az ...    1.0\n",
       "1311  2002-ben Halász Judit, majd Garas Dezsõ, Királ...    2.0"
      ]
     },
     "execution_count": 71,
     "metadata": {},
     "output_type": "execute_result"
    }
   ],
   "source": [
    "train.head()"
   ]
  },
  {
   "cell_type": "code",
   "execution_count": 72,
   "id": "6cba155c-8ac4-430d-a19c-236381713821",
   "metadata": {},
   "outputs": [],
   "source": [
    "\n",
    "train.to_csv(os.path.join(save_dir, \"train.csv\"), index=False)"
   ]
  },
  {
   "cell_type": "code",
   "execution_count": 73,
   "id": "5118b04c-ad6d-410e-8d0c-09348563019d",
   "metadata": {},
   "outputs": [],
   "source": [
    "dev.to_csv(os.path.join(save_dir, \"test.csv\"), index=False)"
   ]
  },
  {
   "cell_type": "code",
   "execution_count": 75,
   "id": "0abe00fc-f715-4836-a2f6-b02e4e4e860e",
   "metadata": {},
   "outputs": [],
   "source": [
    "test.to_csv(os.path.join(save_dir, \"val.csv\"), index=False)"
   ]
  },
  {
   "cell_type": "code",
   "execution_count": null,
   "id": "0f1673a9-9f56-49db-a03b-4abcb1e3d2e5",
   "metadata": {},
   "outputs": [],
   "source": []
  }
 ],
 "metadata": {
  "kernelspec": {
   "display_name": "base-python",
   "language": "python",
   "name": "base"
  },
  "language_info": {
   "codemirror_mode": {
    "name": "ipython",
    "version": 3
   },
   "file_extension": ".py",
   "mimetype": "text/x-python",
   "name": "python",
   "nbconvert_exporter": "python",
   "pygments_lexer": "ipython3",
   "version": "3.9.7"
  }
 },
 "nbformat": 4,
 "nbformat_minor": 5
}
