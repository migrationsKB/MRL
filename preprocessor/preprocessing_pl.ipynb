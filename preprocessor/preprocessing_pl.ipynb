{
 "cells": [
  {
   "cell_type": "code",
   "execution_count": 1,
   "id": "89e6e140-5b6b-4ce7-9546-447627b39456",
   "metadata": {},
   "outputs": [],
   "source": [
    "import os\n",
    "import numpy as np\n",
    "import pandas as pd\n",
    "import yaml\n",
    "from sklearn.model_selection import train_test_split\n",
    "from sklearn.utils import shuffle"
   ]
  },
  {
   "cell_type": "code",
   "execution_count": 2,
   "id": "bbb64a49-ade3-446e-8c26-c2b995e185d6",
   "metadata": {},
   "outputs": [],
   "source": [
    "os.chdir(\"/Users/yiyichen/PycharmProjects/MRL/\")"
   ]
  },
  {
   "cell_type": "code",
   "execution_count": 3,
   "id": "23792931-7ea9-4112-961e-c7d742d966d9",
   "metadata": {},
   "outputs": [],
   "source": [
    "from preprocessor.preprocessing import preprocessing_one_tweet"
   ]
  },
  {
   "cell_type": "code",
   "execution_count": 4,
   "id": "c83868a9-1937-4347-8921-e1ca7ef2394f",
   "metadata": {},
   "outputs": [],
   "source": [
    "def split_data(df):\n",
    "    train, test_val = train_test_split(df, test_size=0.2, random_state=1, shuffle=True)\n",
    "    val, test = train_test_split(test_val, test_size=0.5,random_state=1, shuffle=True)\n",
    "    return train, val, test"
   ]
  },
  {
   "cell_type": "markdown",
   "id": "15519d84-6e33-42fa-87c5-8e7bb4d90cb7",
   "metadata": {},
   "source": [
    "# Polish\n",
    "\n",
    "## sentiment analysis"
   ]
  },
  {
   "cell_type": "code",
   "execution_count": 5,
   "id": "0febd95d-b2e2-4650-bd94-96e78c2e4492",
   "metadata": {},
   "outputs": [],
   "source": [
    "def read_sentences_files(dataset):\n",
    "    \"\"\"\n",
    "    * minus_m : strong negative\n",
    "    * zero --neutral\n",
    "    * plus_m :strong positive.\n",
    "    :param dataset:\n",
    "    :return:\n",
    "    \"\"\"\n",
    "    data_dir = \"datasets/sentiment_analysis/pl/\"\n",
    "    save_dir = os.path.join(data_dir, \"preprocessed\")\n",
    "    filepath = os.path.join(data_dir, \"dataset\", f\"all2.sentence.{dataset}.txt\")\n",
    "    texts = []\n",
    "    labels = []\n",
    "    with open(filepath) as f:\n",
    "        for line in f.readlines():\n",
    "            text, label_ = line.replace('\\n', '').split('__label__')\n",
    "            if label_ == \"z_minus_m\":\n",
    "                label = 0\n",
    "            if label_ == \"z_zero\":\n",
    "                label = 1\n",
    "            if label_ == \"z_plus_m\":\n",
    "                label = 2\n",
    "            texts.append(text)\n",
    "            labels.append(label)\n",
    "    df = pd.DataFrame.from_dict({\"text\": texts, \"label\": labels})\n",
    "    return df\n"
   ]
  },
  {
   "cell_type": "code",
   "execution_count": 6,
   "id": "720dd87e-a919-43ae-8e65-8946e0c9464b",
   "metadata": {},
   "outputs": [],
   "source": [
    "test = read_sentences_files(\"test\")\n",
    "train = read_sentences_files(\"train\")\n",
    "val = read_sentences_files(\"dev\")"
   ]
  },
  {
   "cell_type": "code",
   "execution_count": 7,
   "id": "816e77c1-28db-4fee-9b9c-e9b3e6514cbe",
   "metadata": {},
   "outputs": [],
   "source": [
    "df = pd.concat([test, train, val])"
   ]
  },
  {
   "cell_type": "code",
   "execution_count": 9,
   "id": "cb241ac0-f5e3-4f80-b032-458203a342aa",
   "metadata": {},
   "outputs": [],
   "source": [
    "df = df.drop_duplicates(subset=[\"text\"])\n",
    "df= shuffle(df)"
   ]
  },
  {
   "cell_type": "code",
   "execution_count": 10,
   "id": "ce45d11d-7e0c-4652-8bc6-41f1ad6aee98",
   "metadata": {},
   "outputs": [
    {
     "data": {
      "text/plain": [
       "0    13745\n",
       "1    11378\n",
       "2    10600\n",
       "Name: label, dtype: int64"
      ]
     },
     "execution_count": 10,
     "metadata": {},
     "output_type": "execute_result"
    }
   ],
   "source": [
    "df.label.value_counts()"
   ]
  },
  {
   "cell_type": "code",
   "execution_count": 11,
   "id": "1f3a326c-e03f-4dc7-80be-0e05839a653d",
   "metadata": {},
   "outputs": [],
   "source": [
    "df = df.dropna(subset=[\"text\"])"
   ]
  },
  {
   "cell_type": "code",
   "execution_count": 12,
   "id": "5523911f-83ce-487d-9402-8588922aa7e4",
   "metadata": {},
   "outputs": [
    {
     "data": {
      "text/plain": [
       "0    13745\n",
       "1    11378\n",
       "2    10600\n",
       "Name: label, dtype: int64"
      ]
     },
     "execution_count": 12,
     "metadata": {},
     "output_type": "execute_result"
    }
   ],
   "source": [
    "df.label.value_counts()"
   ]
  },
  {
   "cell_type": "code",
   "execution_count": 13,
   "id": "c7733322-fde2-4d73-b6f5-a3fff80e659b",
   "metadata": {},
   "outputs": [],
   "source": [
    "df = df.groupby(\"label\").sample(10600)"
   ]
  },
  {
   "cell_type": "code",
   "execution_count": 14,
   "id": "8248c382-c51a-441c-bc11-405aa4e6690d",
   "metadata": {},
   "outputs": [],
   "source": [
    "df= shuffle(df)"
   ]
  },
  {
   "cell_type": "code",
   "execution_count": 15,
   "id": "0c5a2e20-e291-476f-bcf2-99434a0c6f68",
   "metadata": {},
   "outputs": [],
   "source": [
    "train, val, test = split_data(df)"
   ]
  },
  {
   "cell_type": "code",
   "execution_count": 16,
   "id": "4e568803-da4a-4c34-8f26-1e8d740b4969",
   "metadata": {},
   "outputs": [
    {
     "data": {
      "text/plain": [
       "(25440, 3180, 3180)"
      ]
     },
     "execution_count": 16,
     "metadata": {},
     "output_type": "execute_result"
    }
   ],
   "source": [
    "len(train), len(val), len(test)"
   ]
  },
  {
   "cell_type": "code",
   "execution_count": 17,
   "id": "231c9b9e-cf73-4bd2-a23f-d96ab4e9df96",
   "metadata": {},
   "outputs": [],
   "source": [
    "data_dir = \"datasets/sentiment_analysis/pl/\"\n",
    "save_dir = os.path.join(data_dir, \"preprocessed\")"
   ]
  },
  {
   "cell_type": "code",
   "execution_count": 18,
   "id": "2958dc2d-4074-4839-a462-ecd8df2c8b69",
   "metadata": {},
   "outputs": [],
   "source": [
    "train.to_csv(os.path.join(save_dir, \"train.csv\"))\n",
    "val.to_csv(os.path.join(save_dir, \"val.csv\"))\n",
    "test.to_csv(os.path.join(save_dir, \"test.csv\"))"
   ]
  },
  {
   "cell_type": "code",
   "execution_count": null,
   "id": "5beec1f7-5817-4c93-91bb-a8257e744c05",
   "metadata": {},
   "outputs": [],
   "source": []
  }
 ],
 "metadata": {
  "kernelspec": {
   "display_name": "base-python",
   "language": "python",
   "name": "base"
  },
  "language_info": {
   "codemirror_mode": {
    "name": "ipython",
    "version": 3
   },
   "file_extension": ".py",
   "mimetype": "text/x-python",
   "name": "python",
   "nbconvert_exporter": "python",
   "pygments_lexer": "ipython3",
   "version": "3.9.7"
  }
 },
 "nbformat": 4,
 "nbformat_minor": 5
}
