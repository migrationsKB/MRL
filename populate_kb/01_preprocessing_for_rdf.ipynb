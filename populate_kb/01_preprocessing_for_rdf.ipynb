{
 "cells": [
  {
   "cell_type": "code",
   "execution_count": 1,
   "id": "ae3ea079-0345-46cd-b318-a94b07316725",
   "metadata": {
    "tags": []
   },
   "outputs": [],
   "source": [
    "import json\n",
    "import rdflib\n",
    "import pandas as pd\n",
    "import numpy as np\n",
    "from uuid import uuid4"
   ]
  },
  {
   "cell_type": "code",
   "execution_count": 2,
   "id": "16846d42-3d94-456b-a0c7-e6883c59c13c",
   "metadata": {},
   "outputs": [],
   "source": [
    "from rdflib.namespace import Namespace\n",
    "from rdflib import URIRef, Literal, BNode"
   ]
  },
  {
   "cell_type": "code",
   "execution_count": 3,
   "id": "9cd6ee08-4fb9-45a1-80d2-583b34e61dc2",
   "metadata": {},
   "outputs": [],
   "source": [
    "from pprint import pprint"
   ]
  },
  {
   "cell_type": "code",
   "execution_count": 4,
   "id": "e92bd1dd-f5da-48b2-b986-b7d88199d366",
   "metadata": {},
   "outputs": [
    {
     "name": "stdout",
     "output_type": "stream",
     "text": [
      "INFO: Pandarallel will run on 4 workers.\n",
      "INFO: Pandarallel will use Memory file system to transfer data between the main process and workers.\n"
     ]
    }
   ],
   "source": [
    "from pandarallel import pandarallel\n",
    "pandarallel.initialize()"
   ]
  },
  {
   "cell_type": "code",
   "execution_count": 5,
   "id": "84a6ec50-c7e2-4927-bfe6-4473c13679d0",
   "metadata": {},
   "outputs": [],
   "source": [
    "from rdflib.namespace import RDFS, RDF"
   ]
  },
  {
   "cell_type": "code",
   "execution_count": 6,
   "id": "f4360be6-1193-4455-a1d1-70f5d8ab2d62",
   "metadata": {},
   "outputs": [
    {
     "data": {
      "text/plain": [
       "rdf.namespace.ClosedNamespace('http://www.w3.org/1999/02/22-rdf-syntax-ns#')"
      ]
     },
     "execution_count": 6,
     "metadata": {},
     "output_type": "execute_result"
    }
   ],
   "source": [
    "RDF"
   ]
  },
  {
   "cell_type": "code",
   "execution_count": 7,
   "id": "e37ca536-3e03-4b65-a221-481870e03868",
   "metadata": {},
   "outputs": [
    {
     "data": {
      "text/plain": [
       "rdf.namespace.ClosedNamespace('http://www.w3.org/2000/01/rdf-schema#')"
      ]
     },
     "execution_count": 7,
     "metadata": {},
     "output_type": "execute_result"
    }
   ],
   "source": [
    "RDFS"
   ]
  },
  {
   "cell_type": "code",
   "execution_count": 8,
   "id": "22d49c87-c40d-4cfb-96b3-00315aed1359",
   "metadata": {},
   "outputs": [
    {
     "name": "stdout",
     "output_type": "stream",
     "text": [
      "CPU times: user 41.4 ms, sys: 7.5 ms, total: 48.9 ms\n",
      "Wall time: 47.5 ms\n"
     ]
    },
    {
     "data": {
      "text/plain": [
       "<Graph identifier=N0ace9eed85464c8d893a26bc1e4da6a7 (<class 'rdflib.graph.Graph'>)>"
      ]
     },
     "execution_count": 8,
     "metadata": {},
     "output_type": "execute_result"
    }
   ],
   "source": [
    "%%time\n",
    "g = rdflib.Graph()\n",
    "g.parse('input/migrationKB_16052021_1726.owl', format='turtle')"
   ]
  },
  {
   "cell_type": "code",
   "execution_count": 9,
   "id": "33ddcee6-0cbe-4b01-b4a6-d1ef1fae0739",
   "metadata": {},
   "outputs": [],
   "source": [
    "# define namespace\n",
    "sioc = Namespace('http://rdfs.org/sioc/ns#')\n",
    "sioc_t = Namespace('http://rdfs.org/sioc/types#')\n",
    "rdfs = Namespace('http://www.w3.org/2000/01/rdf-schema#')\n",
    "nee = Namespace('http://www.ics.forth.gr/isl/oae/core#')\n",
    "schema = Namespace('http://schema.org/')\n",
    "onyx = Namespace('http://www.gsi.dit.upm.es/ontologies/onyx/ns#')\n",
    "wna = Namespace('http://www.gsi.dit.upm.es/ontologies/wnaffect/ns#')\n",
    "dc = Namespace('http://purl.org/dc/elements/1.1/')\n",
    "fibo_ind_ei_ei= Namespace('https://spec.edmcouncil.org/fibo/ontology/IND/EconomicIndicators/EconomicIndicators/')\n",
    "fibo_fnd_dt_fd=Namespace('https://spec.edmcouncil.org/fibo/ontology/FND/DatesAndTimes/FinancialDates/')\n",
    "fibo_fnd_rel_rel = Namespace('https://spec.edmcouncil.org/fibo/ontology/FND/Relations/Relations/')\n",
    "fibo_fnd_utl_alx =Namespace('https://spec.edmcouncil.org/fibo/ontology/FND/Utilities/Analytics/')\n",
    "fibo_fnd_arr_doc = Namespace('https://spec.edmcouncil.org/fibo/ontology/FND/Arrangements/Documents/')\n",
    "rr\n",
    "## binding\n",
    "g.bind(\"sioc\", sioc)\n",
    "g.bind(\"sioc_t\", sioc_t)\n",
    "g.bind(\"rdfs\", rdfs)\n",
    "g.bind(\"wna\", wna)\n",
    "g.bind(\"nee\", nee)\n",
    "g.bind(\"dc\", dc)\n",
    "g.bind(\"schema\", schema)\n",
    "g.bind(\"onyx\",onyx)\n",
    "g.bind(\"fibo-ind-ei-ei\", fibo_ind_ei_ei)\n",
    "g.bind(\"fibo-fnd-dt-fd\", fibo_fnd_dt_fd)\n",
    "g.bind(\"fibo-fnd-rel-rel\", fibo_fnd_rel_rel)\n",
    "g.bind(\"fibo-fnd-utl-alx\", fibo_fnd_utl_alx)\n",
    "g.bind(\"fibo-fnd-arr-doc\", fibo_fnd_arr_doc)\n",
    "\n",
    "### populate\n",
    "neutral_emotion = URIRef('http://www.gsi.dit.upm.es/ontologies/wnaffect/ns#neutral-emotion')\n",
    "negative_emotion = URIRef('http://www.gsi.dit.upm.es/ontologies/wnaffect/ns#negative-emotion')\n",
    "positive_emotion = URIRef('http://www.gsi.dit.upm.es/ontologies/wnaffect/ns#positive-emotion')"
   ]
  },
  {
   "cell_type": "code",
   "execution_count": 10,
   "id": "ce3b527f-a6a3-4206-8735-bec7e057f79d",
   "metadata": {
    "tags": []
   },
   "outputs": [],
   "source": [
    "mgkb = \"urn:absolute:mgKB/\""
   ]
  },
  {
   "cell_type": "code",
   "execution_count": 18,
   "id": "ad8eaca6-7462-4ba8-a92d-2563ae5cb3e7",
   "metadata": {},
   "outputs": [
    {
     "data": {
      "text/plain": [
       "'urn:absolute:mgKB/437312059282554880'"
      ]
     },
     "execution_count": 18,
     "metadata": {},
     "output_type": "execute_result"
    }
   ],
   "source": [
    "mgkb+'437312059282554880'"
   ]
  },
  {
   "cell_type": "code",
   "execution_count": 91,
   "id": "a5fc2bb1-0137-4051-b0f8-d189f5b8ca90",
   "metadata": {},
   "outputs": [
    {
     "data": {
      "text/plain": [
       "148"
      ]
     },
     "execution_count": 91,
     "metadata": {},
     "output_type": "execute_result"
    }
   ],
   "source": [
    "len(g)"
   ]
  },
  {
   "cell_type": "code",
   "execution_count": 9,
   "id": "07bb2b46-ca91-4b4e-914d-e91060416b2e",
   "metadata": {
    "scrolled": true,
    "tags": []
   },
   "outputs": [
    {
     "name": "stdout",
     "output_type": "stream",
     "text": [
      "(rdflib.term.URIRef('http://www.ics.forth.gr/isl/oae/core#detectedAs'),\n",
      " rdflib.term.URIRef('http://www.w3.org/2000/01/rdf-schema#domain'),\n",
      " rdflib.term.URIRef('http://www.ics.forth.gr/isl/oae/core#Entity'))\n",
      "(rdflib.term.URIRef('http://schema.org/Action'),\n",
      " rdflib.term.URIRef('http://www.w3.org/2000/01/rdf-schema#comment'),\n",
      " rdflib.term.Literal('[An action performed by a direct agent and indirect participants upon a direct object. Optionally happens at a location with the help of an inanimate instrument. The execution of the action may produce a result. Specific action sub-type documentation specifies the exact expectation of each argument/role.]\\n\\nAction that includes LikeAction, ShareAction, ReplyAction and QuoteAction.'))\n",
      "(rdflib.term.URIRef('http://schema.org/interactionType'),\n",
      " rdflib.term.URIRef('http://www.w3.org/2000/01/rdf-schema#range'),\n",
      " rdflib.term.URIRef('http://schema.org/Action'))\n",
      "(rdflib.term.URIRef('http://schema.org/latitude'),\n",
      " rdflib.term.URIRef('http://www.w3.org/2000/01/rdf-schema#domain'),\n",
      " rdflib.term.URIRef('http://schema.org/Place'))\n",
      "(rdflib.term.URIRef('http://rdfs.org/sioc/ns#id'),\n",
      " rdflib.term.URIRef('http://www.w3.org/2000/01/rdf-schema#domain'),\n",
      " rdflib.term.URIRef('http://schema.org/Place'))\n",
      "(rdflib.term.URIRef('http://schema.org/location'),\n",
      " rdflib.term.URIRef('http://www.w3.org/2000/01/rdf-schema#domain'),\n",
      " rdflib.term.URIRef('https://spec.edmcouncil.org/fibo/ontology/IND/EconomicIndicators/EconomicIndicators/GrossDomesticProduct'))\n",
      "(rdflib.term.URIRef('http://purl.org/dc/elements/1.1/subject'),\n",
      " rdflib.term.URIRef('http://www.w3.org/1999/02/22-rdf-syntax-ns#type'),\n",
      " rdflib.term.URIRef('http://www.w3.org/2002/07/owl#DatatypeProperty'))\n",
      "(rdflib.term.URIRef('https://spec.edmcouncil.org/fibo/ontology/FND/Utilities/Analytics/hasArgument'),\n",
      " rdflib.term.URIRef('http://www.w3.org/2000/01/rdf-schema#range'),\n",
      " rdflib.term.URIRef('https://spec.edmcouncil.org/fibo/ontology/IND/EconomicIndicators/EconomicIndicators/UnemployedPopulation'))\n",
      "(rdflib.term.URIRef('http://purl.org/dc/elements/1.1/created'),\n",
      " rdflib.term.URIRef('http://www.w3.org/2000/01/rdf-schema#domain'),\n",
      " rdflib.term.URIRef('https://spec.edmcouncil.org/fibo/ontology/IND/EconomicIndicators/EconomicIndicators/UnemploymentRate'))\n",
      "(rdflib.term.URIRef('http://www.ics.forth.gr/isl/oae/core#detectedAs'),\n",
      " rdflib.term.URIRef('http://www.w3.org/1999/02/22-rdf-syntax-ns#type'),\n",
      " rdflib.term.URIRef('http://www.w3.org/2002/07/owl#DatatypeProperty'))\n",
      "(rdflib.term.URIRef('https://spec.edmcouncil.org/fibo/ontology/FND/DatesAndTimes/FinancialDates/hasEndDate'),\n",
      " rdflib.term.URIRef('http://www.w3.org/2000/01/rdf-schema#comment'),\n",
      " rdflib.term.Literal('indicates the ending date of some Schedule or DatePeriod'))\n",
      "(rdflib.term.URIRef('http://schema.org/userInteractionCount'),\n",
      " rdflib.term.URIRef('http://www.w3.org/2000/01/rdf-schema#range'),\n",
      " rdflib.term.URIRef('http://www.w3.org/2000/01/rdf-schema#Literal'))\n",
      "(rdflib.term.URIRef('http://schema.org/LikeAction'),\n",
      " rdflib.term.URIRef('http://www.w3.org/1999/02/22-rdf-syntax-ns#type'),\n",
      " rdflib.term.URIRef('http://www.w3.org/2002/07/owl#NamedIndividual'))\n",
      "(rdflib.term.URIRef('http://rdfs.org/sioc/ns#has_creator'),\n",
      " rdflib.term.URIRef('http://www.w3.org/1999/02/22-rdf-syntax-ns#type'),\n",
      " rdflib.term.URIRef('http://www.w3.org/2002/07/owl#ObjectProperty'))\n",
      "(rdflib.term.URIRef('http://schema.org/addressCountry'),\n",
      " rdflib.term.URIRef('http://www.w3.org/1999/02/22-rdf-syntax-ns#type'),\n",
      " rdflib.term.URIRef('http://www.w3.org/2002/07/owl#DatatypeProperty'))\n",
      "(rdflib.term.URIRef('http://rdfs.org/sioc/types#sioc_t:Tag'),\n",
      " rdflib.term.URIRef('http://www.w3.org/1999/02/22-rdf-syntax-ns#type'),\n",
      " rdflib.term.URIRef('http://www.w3.org/2002/07/owl#Class'))\n",
      "(rdflib.term.URIRef('http://www.gsi.dit.upm.es/ontologies/onyx/ns#oynx:Emotion'),\n",
      " rdflib.term.URIRef('http://www.w3.org/2000/01/rdf-schema#comment'),\n",
      " rdflib.term.Literal('Class that represents emotions in a generic way'))\n",
      "(rdflib.term.URIRef('http://schema.org/mentions'),\n",
      " rdflib.term.URIRef('http://www.w3.org/2000/01/rdf-schema#range'),\n",
      " rdflib.term.URIRef('http://rdfs.org/sioc/ns#UserAccount'))\n",
      "(rdflib.term.URIRef('http://schema.org/location'),\n",
      " rdflib.term.URIRef('http://www.w3.org/2000/01/rdf-schema#domain'),\n",
      " rdflib.term.URIRef('https://spec.edmcouncil.org/fibo/ontology/IND/EconomicIndicators/EconomicIndicators/UnemploymentRate'))\n",
      "(rdflib.term.URIRef('http://rdfs.org/sioc/ns#name'),\n",
      " rdflib.term.URIRef('http://www.w3.org/2000/01/rdf-schema#range'),\n",
      " rdflib.term.URIRef('http://www.w3.org/2000/01/rdf-schema#Literal'))\n",
      "(rdflib.term.URIRef('https://spec.edmcouncil.org/fibo/ontology/FND/Utilities/Analytics/hasArgument'),\n",
      " rdflib.term.URIRef('http://www.w3.org/2000/01/rdf-schema#domain'),\n",
      " rdflib.term.URIRef('https://spec.edmcouncil.org/fibo/ontology/IND/EconomicIndicators/EconomicIndicators/UnemploymentRate'))\n",
      "(rdflib.term.URIRef('mgKB:e437312059282554880_0'),\n",
      " rdflib.term.URIRef('http://www.w3.org/1999/02/22-rdf-syntax-ns#type'),\n",
      " rdflib.term.URIRef('http://www.ics.forth.gr/isl/oae/core#Entity'))\n",
      "(rdflib.term.URIRef('https://spec.edmcouncil.org/fibo/ontology/FND/DatesAndTimes/FinancialDates/hasEndDate'),\n",
      " rdflib.term.URIRef('http://www.w3.org/2000/01/rdf-schema#domain'),\n",
      " rdflib.term.URIRef('https://spec.edmcouncil.org/fibo/ontology/FND/DatesAndTimes/FinancialDates/ExplicitDatePeriod'))\n",
      "(rdflib.term.URIRef('http://schema.org/ReplyAction'),\n",
      " rdflib.term.URIRef('http://www.w3.org/1999/02/22-rdf-syntax-ns#type'),\n",
      " rdflib.term.URIRef('http://schema.org/Action'))\n",
      "(rdflib.term.URIRef('https://spec.edmcouncil.org/fibo/ontology/IND/EconomicIndicators/EconomicIndicators/UnemployedPopulation'),\n",
      " rdflib.term.URIRef('http://www.w3.org/1999/02/22-rdf-syntax-ns#type'),\n",
      " rdflib.term.URIRef('http://www.w3.org/2002/07/owl#Class'))\n",
      "(rdflib.term.URIRef('https://spec.edmcouncil.org/fibo/ontology/FND/DatesAndTimes/FinancialDates/hasStartDate'),\n",
      " rdflib.term.URIRef('http://www.w3.org/2000/01/rdf-schema#comment'),\n",
      " rdflib.term.Literal('indicates the initial date of something'))\n",
      "(rdflib.term.URIRef('http://www.gsi.dit.upm.es/ontologies/onyx/ns#hasEmotionCategory'),\n",
      " rdflib.term.URIRef('http://www.w3.org/1999/02/22-rdf-syntax-ns#type'),\n",
      " rdflib.term.URIRef('http://www.w3.org/2002/07/owl#ObjectProperty'))\n",
      "(rdflib.term.URIRef('http://schema.org/addressCountry'),\n",
      " rdflib.term.URIRef('http://www.w3.org/2000/01/rdf-schema#comment'),\n",
      " rdflib.term.Literal('The country. For example, USA. You can also provide the two-letter ISO 3166-1 alpha-2 country code.The country.'))\n",
      "(rdflib.term.URIRef('https://spec.edmcouncil.org/fibo/ontology/FND/Utilities/Analytics/hasArgument'),\n",
      " rdflib.term.URIRef('http://www.w3.org/2000/01/rdf-schema#comment'),\n",
      " rdflib.term.Literal('indicates a specific input to a function, formula or expression, also known as an independent variable'))\n",
      "(rdflib.term.URIRef('http://rdfs.org/sioc/ns#UserAccount'),\n",
      " rdflib.term.URIRef('http://www.w3.org/1999/02/22-rdf-syntax-ns#type'),\n",
      " rdflib.term.URIRef('http://www.w3.org/2002/07/owl#Class'))\n",
      "(rdflib.term.URIRef('urn:absolute:mgKB'),\n",
      " rdflib.term.URIRef('http://www.w3.org/1999/02/22-rdf-syntax-ns#type'),\n",
      " rdflib.term.URIRef('http://www.w3.org/2002/07/owl#Ontology'))\n",
      "(rdflib.term.URIRef('mgKB:t437312059282554880'),\n",
      " rdflib.term.URIRef('http://purl.org/dc/elements/1.1/created'),\n",
      " rdflib.term.Literal('2014-02-22T19:44:54.000Z', datatype=rdflib.term.URIRef('http://www.w3.org/2000/01/rdf-schema#Literal')))\n",
      "(rdflib.term.URIRef('mgKB:e437312059282554880_0'),\n",
      " rdflib.term.URIRef('http://www.w3.org/1999/02/22-rdf-syntax-ns#type'),\n",
      " rdflib.term.URIRef('http://www.w3.org/2002/07/owl#NamedIndividual'))\n",
      "(rdflib.term.URIRef('http://rdfs.org/sioc/ns#id'),\n",
      " rdflib.term.URIRef('http://www.w3.org/1999/02/22-rdf-syntax-ns#type'),\n",
      " rdflib.term.URIRef('http://www.w3.org/2002/07/owl#DatatypeProperty'))\n",
      "(rdflib.term.URIRef('http://www.gsi.dit.upm.es/ontologies/onyx/ns#oynx:EmotionCategory'),\n",
      " rdflib.term.URIRef('http://www.w3.org/1999/02/22-rdf-syntax-ns#type'),\n",
      " rdflib.term.URIRef('http://www.w3.org/2002/07/owl#Class'))\n",
      "(rdflib.term.URIRef('http://purl.org/dc/elements/1.1/created'),\n",
      " rdflib.term.URIRef('http://www.w3.org/2000/01/rdf-schema#domain'),\n",
      " rdflib.term.URIRef('https://spec.edmcouncil.org/fibo/ontology/IND/EconomicIndicators/EconomicIndicators/GrossDomesticProduct'))\n",
      "(rdflib.term.URIRef('http://rdfs.org/sioc/ns#name'),\n",
      " rdflib.term.URIRef('http://www.w3.org/2000/01/rdf-schema#domain'),\n",
      " rdflib.term.URIRef('http://schema.org/Place'))\n",
      "(rdflib.term.URIRef('http://www.ics.forth.gr/isl/oae/core#confidence'),\n",
      " rdflib.term.URIRef('http://www.w3.org/2000/01/rdf-schema#range'),\n",
      " rdflib.term.URIRef('http://www.w3.org/2000/01/rdf-schema#Literal'))\n",
      "(rdflib.term.URIRef('http://purl.org/dc/elements/1.1/created'),\n",
      " rdflib.term.URIRef('http://www.w3.org/2000/01/rdf-schema#range'),\n",
      " rdflib.term.URIRef('http://www.w3.org/2000/01/rdf-schema#Literal'))\n",
      "(rdflib.term.URIRef('http://schema.org/InteractionCounter'),\n",
      " rdflib.term.URIRef('http://www.w3.org/1999/02/22-rdf-syntax-ns#type'),\n",
      " rdflib.term.URIRef('http://www.w3.org/2002/07/owl#Class'))\n",
      "(rdflib.term.URIRef('mgKB:e437312059282554880_0'),\n",
      " rdflib.term.URIRef('http://www.ics.forth.gr/isl/oae/core#hasMatchedURI'),\n",
      " rdflib.term.Literal(\"'https://en.wikipedia.org/wiki?curid=7515849'\", datatype=rdflib.term.URIRef('http://www.w3.org/2000/01/rdf-schema#Resource')))\n",
      "(rdflib.term.URIRef('http://schema.org/interactionStatistics'),\n",
      " rdflib.term.URIRef('http://www.w3.org/2000/01/rdf-schema#comment'),\n",
      " rdflib.term.Literal('[The number of interactions for the CreativeWork using the WebSite or SoftwareApplication. The most specific child type of InteractionCounter should be used.]\\n\\nA tweet has interactionStatistics InteractionCounter.'))\n",
      "(rdflib.term.URIRef('http://www.gsi.dit.upm.es/ontologies/onyx/ns#hasEmotion'),\n",
      " rdflib.term.URIRef('http://www.w3.org/2000/01/rdf-schema#domain'),\n",
      " rdflib.term.URIRef('http://www.gsi.dit.upm.es/ontologies/onyx/ns#oynx:EmotionSet'))\n",
      "(rdflib.term.URIRef('http://www.gsi.dit.upm.es/ontologies/wnaffect/ns#neutral-emotion'),\n",
      " rdflib.term.URIRef('http://www.w3.org/1999/02/22-rdf-syntax-ns#type'),\n",
      " rdflib.term.URIRef('http://www.gsi.dit.upm.es/ontologies/onyx/ns#oynx:EmotionCategory'))\n",
      "(rdflib.term.URIRef('http://www.gsi.dit.upm.es/ontologies/onyx/ns#hasEmotionSet'),\n",
      " rdflib.term.URIRef('http://www.w3.org/2000/01/rdf-schema#range'),\n",
      " rdflib.term.URIRef('http://www.gsi.dit.upm.es/ontologies/onyx/ns#oynx:EmotionSet'))\n",
      "(rdflib.term.URIRef('http://schema.org/location'),\n",
      " rdflib.term.URIRef('http://www.w3.org/2000/01/rdf-schema#range'),\n",
      " rdflib.term.URIRef('http://schema.org/Place'))\n",
      "(rdflib.term.URIRef('http://www.w3.org/2000/01/rdf-schema#Resource'),\n",
      " rdflib.term.URIRef('http://www.w3.org/1999/02/22-rdf-syntax-ns#type'),\n",
      " rdflib.term.URIRef('http://www.w3.org/2000/01/rdf-schema#Datatype'))\n",
      "(rdflib.term.URIRef('http://schema.org/longitude'),\n",
      " rdflib.term.URIRef('http://www.w3.org/2000/01/rdf-schema#range'),\n",
      " rdflib.term.URIRef('http://www.w3.org/2000/01/rdf-schema#Literal'))\n",
      "(rdflib.term.URIRef('mgKB:e437312059282554880_0'),\n",
      " rdflib.term.URIRef('http://www.ics.forth.gr/isl/oae/core#confidence'),\n",
      " rdflib.term.Literal('0.81', datatype=rdflib.term.URIRef('http://www.w3.org/2000/01/rdf-schema#Literal')))\n",
      "(rdflib.term.URIRef('http://www.ics.forth.gr/isl/oae/core#confidence'),\n",
      " rdflib.term.URIRef('http://www.w3.org/1999/02/22-rdf-syntax-ns#type'),\n",
      " rdflib.term.URIRef('http://www.w3.org/2002/07/owl#DatatypeProperty'))\n",
      "(rdflib.term.URIRef('http://rdfs.org/sioc/ns#id'),\n",
      " rdflib.term.URIRef('http://www.w3.org/2000/01/rdf-schema#domain'),\n",
      " rdflib.term.URIRef('http://rdfs.org/sioc/ns#Post'))\n",
      "(rdflib.term.URIRef('http://purl.org/dc/elements/1.1/subject'),\n",
      " rdflib.term.URIRef('http://www.w3.org/2000/01/rdf-schema#range'),\n",
      " rdflib.term.URIRef('http://www.w3.org/2000/01/rdf-schema#Literal'))\n",
      "(rdflib.term.URIRef('http://www.gsi.dit.upm.es/ontologies/wnaffect/ns#negative-emotion'),\n",
      " rdflib.term.URIRef('http://www.w3.org/1999/02/22-rdf-syntax-ns#type'),\n",
      " rdflib.term.URIRef('http://www.gsi.dit.upm.es/ontologies/onyx/ns#oynx:EmotionCategory'))\n",
      "(rdflib.term.URIRef('http://www.ics.forth.gr/isl/oae/core#Entity'),\n",
      " rdflib.term.URIRef('http://www.w3.org/1999/02/22-rdf-syntax-ns#type'),\n",
      " rdflib.term.URIRef('http://www.w3.org/2002/07/owl#Class'))\n",
      "(rdflib.term.URIRef('https://spec.edmcouncil.org/fibo/ontology/FND/DatesAndTimes/FinancialDates/hasEndDate'),\n",
      " rdflib.term.URIRef('http://www.w3.org/2000/01/rdf-schema#range'),\n",
      " rdflib.term.URIRef('http://www.w3.org/2000/01/rdf-schema#Literal'))\n",
      "(rdflib.term.URIRef('http://www.gsi.dit.upm.es/ontologies/onyx/ns#oynx:EmotionSet'),\n",
      " rdflib.term.URIRef('http://www.w3.org/2000/01/rdf-schema#comment'),\n",
      " rdflib.term.Literal('Describes the concept of emotion expressed in a certain text'))\n",
      "(rdflib.term.URIRef('https://spec.edmcouncil.org/fibo/ontology/FND/DatesAndTimes/FinancialDates/hasStartDate'),\n",
      " rdflib.term.URIRef('http://www.w3.org/2000/01/rdf-schema#range'),\n",
      " rdflib.term.URIRef('http://www.w3.org/2000/01/rdf-schema#Literal'))\n",
      "(rdflib.term.URIRef('http://www.gsi.dit.upm.es/ontologies/wnaffect/ns#neutral-emotion'),\n",
      " rdflib.term.URIRef('http://www.w3.org/1999/02/22-rdf-syntax-ns#type'),\n",
      " rdflib.term.URIRef('http://www.w3.org/2002/07/owl#NamedIndividual'))\n",
      "(rdflib.term.URIRef('http://schema.org/userInteractionCount'),\n",
      " rdflib.term.URIRef('http://www.w3.org/1999/02/22-rdf-syntax-ns#type'),\n",
      " rdflib.term.URIRef('http://www.w3.org/2002/07/owl#DatatypeProperty'))\n",
      "(rdflib.term.URIRef('http://www.gsi.dit.upm.es/ontologies/onyx/ns#oynx:EmotionSet'),\n",
      " rdflib.term.URIRef('http://www.w3.org/1999/02/22-rdf-syntax-ns#type'),\n",
      " rdflib.term.URIRef('http://www.w3.org/2002/07/owl#Class'))\n",
      "(rdflib.term.URIRef('http://www.w3.org/2000/01/rdf-schema#label'),\n",
      " rdflib.term.URIRef('http://www.w3.org/2000/01/rdf-schema#range'),\n",
      " rdflib.term.URIRef('http://www.w3.org/2000/01/rdf-schema#Literal'))\n",
      "(rdflib.term.URIRef('http://www.gsi.dit.upm.es/ontologies/onyx/ns#hasEmotion'),\n",
      " rdflib.term.URIRef('http://www.w3.org/2000/01/rdf-schema#range'),\n",
      " rdflib.term.URIRef('http://www.gsi.dit.upm.es/ontologies/onyx/ns#oynx:Emotion'))\n",
      "(rdflib.term.URIRef('http://schema.org/longitude'),\n",
      " rdflib.term.URIRef('http://www.w3.org/1999/02/22-rdf-syntax-ns#type'),\n",
      " rdflib.term.URIRef('http://www.w3.org/2002/07/owl#DatatypeProperty'))\n",
      "(rdflib.term.URIRef('http://rdfs.org/sioc/ns#has_creator'),\n",
      " rdflib.term.URIRef('http://www.w3.org/2000/01/rdf-schema#range'),\n",
      " rdflib.term.URIRef('http://rdfs.org/sioc/ns#UserAccount'))\n",
      "(rdflib.term.URIRef('http://schema.org/userInteractionCount'),\n",
      " rdflib.term.URIRef('http://www.w3.org/2000/01/rdf-schema#domain'),\n",
      " rdflib.term.URIRef('http://schema.org/InteractionCounter'))\n",
      "(rdflib.term.URIRef('https://spec.edmcouncil.org/fibo/ontology/IND/EconomicIndicators/EconomicIndicators/UnemploymentRate'),\n",
      " rdflib.term.URIRef('http://www.w3.org/1999/02/22-rdf-syntax-ns#type'),\n",
      " rdflib.term.URIRef('http://www.w3.org/2002/07/owl#Class'))\n",
      "(rdflib.term.URIRef('http://schema.org/longitude'),\n",
      " rdflib.term.URIRef('http://www.w3.org/2000/01/rdf-schema#domain'),\n",
      " rdflib.term.URIRef('http://schema.org/Place'))\n",
      "(rdflib.term.URIRef('http://schema.org/LikeAction'),\n",
      " rdflib.term.URIRef('http://www.w3.org/1999/02/22-rdf-syntax-ns#type'),\n",
      " rdflib.term.URIRef('http://schema.org/Action'))\n",
      "(rdflib.term.URIRef('https://spec.edmcouncil.org/fibo/ontology/FND/Relations/Relations/isCharacterizedBy'),\n",
      " rdflib.term.URIRef('http://www.w3.org/2000/01/rdf-schema#domain'),\n",
      " rdflib.term.URIRef('http://rdfs.org/sioc/ns#Post'))\n",
      "(rdflib.term.URIRef('https://spec.edmcouncil.org/fibo/ontology/FND/Relations/Relations/isCharacterizedBy'),\n",
      " rdflib.term.URIRef('http://www.w3.org/1999/02/22-rdf-syntax-ns#type'),\n",
      " rdflib.term.URIRef('http://www.w3.org/2002/07/owl#ObjectProperty'))\n",
      "(rdflib.term.URIRef('http://www.gsi.dit.upm.es/ontologies/onyx/ns#hasEmotionCategory'),\n",
      " rdflib.term.URIRef('http://www.w3.org/2000/01/rdf-schema#range'),\n",
      " rdflib.term.URIRef('http://www.gsi.dit.upm.es/ontologies/onyx/ns#oynx:EmotionCategory'))\n",
      "(rdflib.term.URIRef('https://spec.edmcouncil.org/fibo/ontology/FND/Arrangements/Documents/hasReportingPeriod'),\n",
      " rdflib.term.URIRef('http://www.w3.org/1999/02/22-rdf-syntax-ns#type'),\n",
      " rdflib.term.URIRef('http://www.w3.org/2002/07/owl#ObjectProperty'))\n",
      "(rdflib.term.URIRef('http://rdfs.org/sioc/ns#name'),\n",
      " rdflib.term.URIRef('http://www.w3.org/1999/02/22-rdf-syntax-ns#type'),\n",
      " rdflib.term.URIRef('http://www.w3.org/2002/07/owl#DatatypeProperty'))\n",
      "(rdflib.term.URIRef('https://spec.edmcouncil.org/fibo/ontology/IND/EconomicIndicators/EconomicIndicators/GrossDomesticProduct'),\n",
      " rdflib.term.URIRef('http://www.w3.org/2000/01/rdf-schema#comment'),\n",
      " rdflib.term.Literal('an economic indicator representing the broadest measure of aggregate economic activity, measuring the total unduplicated market value of all final goods and services produced within a statistical area in a period\\n\\n\\n data source: real GDP growth rate from EUROSTAT'))\n",
      "(rdflib.term.URIRef('http://www.gsi.dit.upm.es/ontologies/wnaffect/ns#negative-emotion'),\n",
      " rdflib.term.URIRef('http://www.w3.org/1999/02/22-rdf-syntax-ns#type'),\n",
      " rdflib.term.URIRef('http://www.w3.org/2002/07/owl#NamedIndividual'))\n",
      "(rdflib.term.URIRef('http://www.gsi.dit.upm.es/ontologies/onyx/ns#oynx:Emotion'),\n",
      " rdflib.term.URIRef('http://www.w3.org/1999/02/22-rdf-syntax-ns#type'),\n",
      " rdflib.term.URIRef('http://www.w3.org/2002/07/owl#Class'))\n",
      "(rdflib.term.URIRef('http://www.gsi.dit.upm.es/ontologies/onyx/ns#hasEmotionCategory'),\n",
      " rdflib.term.URIRef('http://www.w3.org/2000/01/rdf-schema#domain'),\n",
      " rdflib.term.URIRef('http://www.gsi.dit.upm.es/ontologies/onyx/ns#oynx:Emotion'))\n",
      "(rdflib.term.URIRef('https://spec.edmcouncil.org/fibo/ontology/FND/DatesAndTimes/FinancialDates/hasStartDate'),\n",
      " rdflib.term.URIRef('http://www.w3.org/1999/02/22-rdf-syntax-ns#type'),\n",
      " rdflib.term.URIRef('http://www.w3.org/2002/07/owl#DatatypeProperty'))\n",
      "(rdflib.term.URIRef('https://spec.edmcouncil.org/fibo/ontology/IND/EconomicIndicators/EconomicIndicators/UnemploymentRate'),\n",
      " rdflib.term.URIRef('http://www.w3.org/2000/01/rdf-schema#comment'),\n",
      " rdflib.term.Literal('an economic indicator representing the ratio of the unemployed population with respect to the civilian labor force of a given economy for some specified period'))\n",
      "(rdflib.term.URIRef('http://www.gsi.dit.upm.es/ontologies/onyx/ns#hasEmotionSet'),\n",
      " rdflib.term.URIRef('http://www.w3.org/1999/02/22-rdf-syntax-ns#type'),\n",
      " rdflib.term.URIRef('http://www.w3.org/2002/07/owl#ObjectProperty'))\n",
      "(rdflib.term.URIRef('https://spec.edmcouncil.org/fibo/ontology/IND/EconomicIndicators/EconomicIndicators/hasIndicatorValue'),\n",
      " rdflib.term.URIRef('http://www.w3.org/2000/01/rdf-schema#domain'),\n",
      " rdflib.term.URIRef('https://spec.edmcouncil.org/fibo/ontology/IND/EconomicIndicators/EconomicIndicators/UnemploymentRate'))\n",
      "(rdflib.term.URIRef('http://www.w3.org/2000/01/rdf-schema#label'),\n",
      " rdflib.term.URIRef('http://www.w3.org/1999/02/22-rdf-syntax-ns#type'),\n",
      " rdflib.term.URIRef('http://www.w3.org/2002/07/owl#DatatypeProperty'))\n",
      "(rdflib.term.URIRef('https://spec.edmcouncil.org/fibo/ontology/FND/DatesAndTimes/FinancialDates/ExplicitDatePeriod'),\n",
      " rdflib.term.URIRef('http://www.w3.org/1999/02/22-rdf-syntax-ns#type'),\n",
      " rdflib.term.URIRef('http://www.w3.org/2002/07/owl#Class'))\n",
      "(rdflib.term.URIRef('http://schema.org/location'),\n",
      " rdflib.term.URIRef('http://www.w3.org/1999/02/22-rdf-syntax-ns#type'),\n",
      " rdflib.term.URIRef('http://www.w3.org/2002/07/owl#ObjectProperty'))\n",
      "(rdflib.term.URIRef('https://spec.edmcouncil.org/fibo/ontology/IND/EconomicIndicators/EconomicIndicators/UnemployedPopulation'),\n",
      " rdflib.term.URIRef('http://www.w3.org/2000/01/rdf-schema#comment'),\n",
      " rdflib.term.Literal('subset of the civilian labor force that is considered to have had no employment but was available for work, except for temporary illness, and had made specific efforts to find employment sometime during a specified period, during the reporting period'))\n",
      "(rdflib.term.URIRef('http://www.ics.forth.gr/isl/oae/core#confidence'),\n",
      " rdflib.term.URIRef('http://www.w3.org/2000/01/rdf-schema#domain'),\n",
      " rdflib.term.URIRef('http://www.ics.forth.gr/isl/oae/core#Entity'))\n",
      "(rdflib.term.URIRef('https://spec.edmcouncil.org/fibo/ontology/FND/DatesAndTimes/FinancialDates/hasDuration'),\n",
      " rdflib.term.URIRef('http://www.w3.org/2000/01/rdf-schema#range'),\n",
      " rdflib.term.URIRef('http://www.w3.org/2000/01/rdf-schema#Literal'))\n",
      "(rdflib.term.URIRef('mgKB:t437312059282554880'),\n",
      " rdflib.term.URIRef('http://www.w3.org/1999/02/22-rdf-syntax-ns#type'),\n",
      " rdflib.term.URIRef('http://www.w3.org/2002/07/owl#NamedIndividual'))\n",
      "(rdflib.term.URIRef('http://schema.org/InteractionCounter'),\n",
      " rdflib.term.URIRef('http://www.w3.org/2000/01/rdf-schema#comment'),\n",
      " rdflib.term.Literal('[A summary of how users have interacted with this CreativeWork. In most cases, authors will use a subtype to specify the specific type of interaction.]\\n\\nA class that represents the public metrics of a tweet, includes LikeAction (like_count), ShareAction (retweet_count), ReplyAction (reply_count), and QuoteAction (quote_count).'))\n",
      "(rdflib.term.URIRef('http://www.gsi.dit.upm.es/ontologies/onyx/ns#oynx:EmotionCategory'),\n",
      " rdflib.term.URIRef('http://www.w3.org/2000/01/rdf-schema#comment'),\n",
      " rdflib.term.Literal('Value that represents the type of emotion. \\nIt has three individuals:\\nnegative emotion, neutral emotion and positive emotion'))\n",
      "(rdflib.term.URIRef('http://www.gsi.dit.upm.es/ontologies/onyx/ns#hasEmotion'),\n",
      " rdflib.term.URIRef('http://www.w3.org/1999/02/22-rdf-syntax-ns#type'),\n",
      " rdflib.term.URIRef('http://www.w3.org/2002/07/owl#ObjectProperty'))\n",
      "(rdflib.term.URIRef('http://www.ics.forth.gr/isl/oae/core#detectedAs'),\n",
      " rdflib.term.URIRef('http://www.w3.org/2000/01/rdf-schema#range'),\n",
      " rdflib.term.URIRef('http://www.w3.org/2000/01/rdf-schema#Literal'))\n",
      "(rdflib.term.URIRef('http://schema.org/mentions'),\n",
      " rdflib.term.URIRef('http://www.w3.org/2000/01/rdf-schema#range'),\n",
      " rdflib.term.URIRef('http://www.ics.forth.gr/isl/oae/core#Entity'))\n",
      "(rdflib.term.URIRef('http://www.ics.forth.gr/isl/oae/core#hasMatchedURI'),\n",
      " rdflib.term.URIRef('http://www.w3.org/2000/01/rdf-schema#range'),\n",
      " rdflib.term.URIRef('http://www.w3.org/2000/01/rdf-schema#Resource'))\n",
      "(rdflib.term.URIRef('mgKB:t437312059282554880'),\n",
      " rdflib.term.URIRef('http://www.w3.org/1999/02/22-rdf-syntax-ns#type'),\n",
      " rdflib.term.URIRef('http://rdfs.org/sioc/ns#Post'))\n",
      "(rdflib.term.URIRef('http://www.gsi.dit.upm.es/ontologies/wnaffect/ns#positive-emotion'),\n",
      " rdflib.term.URIRef('http://www.w3.org/1999/02/22-rdf-syntax-ns#type'),\n",
      " rdflib.term.URIRef('http://www.gsi.dit.upm.es/ontologies/onyx/ns#oynx:EmotionCategory'))\n",
      "(rdflib.term.URIRef('https://spec.edmcouncil.org/fibo/ontology/FND/DatesAndTimes/FinancialDates/hasStartDate'),\n",
      " rdflib.term.URIRef('http://www.w3.org/2000/01/rdf-schema#domain'),\n",
      " rdflib.term.URIRef('https://spec.edmcouncil.org/fibo/ontology/FND/DatesAndTimes/FinancialDates/ExplicitDatePeriod'))\n",
      "(rdflib.term.URIRef('http://schema.org/addressCountry'),\n",
      " rdflib.term.URIRef('http://www.w3.org/2000/01/rdf-schema#range'),\n",
      " rdflib.term.URIRef('http://www.w3.org/2000/01/rdf-schema#Literal'))\n",
      "(rdflib.term.URIRef('http://rdfs.org/sioc/ns#id'),\n",
      " rdflib.term.URIRef('http://www.w3.org/2000/01/rdf-schema#domain'),\n",
      " rdflib.term.URIRef('http://rdfs.org/sioc/ns#UserAccount'))\n",
      "(rdflib.term.URIRef('http://schema.org/ShareAction'),\n",
      " rdflib.term.URIRef('http://www.w3.org/1999/02/22-rdf-syntax-ns#type'),\n",
      " rdflib.term.URIRef('http://schema.org/Action'))\n",
      "(rdflib.term.URIRef('https://spec.edmcouncil.org/fibo/ontology/FND/DatesAndTimes/FinancialDates/hasDuration'),\n",
      " rdflib.term.URIRef('http://www.w3.org/1999/02/22-rdf-syntax-ns#type'),\n",
      " rdflib.term.URIRef('http://www.w3.org/2002/07/owl#DatatypeProperty'))\n",
      "(rdflib.term.URIRef('https://spec.edmcouncil.org/fibo/ontology/FND/Relations/Relations/isCharacterizedBy'),\n",
      " rdflib.term.URIRef('http://www.w3.org/2000/01/rdf-schema#comment'),\n",
      " rdflib.term.Literal('indicates a quality or feature of something, distinguishing it from something else'))\n",
      "(rdflib.term.URIRef('http://purl.org/dc/elements/1.1/created'),\n",
      " rdflib.term.URIRef('http://www.w3.org/2000/01/rdf-schema#domain'),\n",
      " rdflib.term.URIRef('http://rdfs.org/sioc/ns#Post'))\n",
      "(rdflib.term.URIRef('mgKB:t437312059282554880'),\n",
      " rdflib.term.URIRef('http://rdfs.org/sioc/ns#id'),\n",
      " rdflib.term.Literal('437312059282554880', datatype=rdflib.term.URIRef('http://www.w3.org/2000/01/rdf-schema#Literal')))\n",
      "(rdflib.term.URIRef('http://schema.org/Action'),\n",
      " rdflib.term.URIRef('http://www.w3.org/1999/02/22-rdf-syntax-ns#type'),\n",
      " rdflib.term.URIRef('http://www.w3.org/2002/07/owl#Class'))\n",
      "(rdflib.term.URIRef('http://schema.org/interactionStatistics'),\n",
      " rdflib.term.URIRef('http://www.w3.org/2000/01/rdf-schema#range'),\n",
      " rdflib.term.URIRef('http://schema.org/InteractionCounter'))\n",
      "(rdflib.term.URIRef('https://spec.edmcouncil.org/fibo/ontology/IND/EconomicIndicators/EconomicIndicators/hasIndicatorValue'),\n",
      " rdflib.term.URIRef('http://www.w3.org/2000/01/rdf-schema#domain'),\n",
      " rdflib.term.URIRef('https://spec.edmcouncil.org/fibo/ontology/IND/EconomicIndicators/EconomicIndicators/GrossDomesticProduct'))\n",
      "(rdflib.term.URIRef('http://www.gsi.dit.upm.es/ontologies/onyx/ns#hasEmotionSet'),\n",
      " rdflib.term.URIRef('http://www.w3.org/2000/01/rdf-schema#domain'),\n",
      " rdflib.term.URIRef('http://rdfs.org/sioc/ns#Post'))\n",
      "(rdflib.term.URIRef('http://www.gsi.dit.upm.es/ontologies/onyx/ns#hasEmotionCategory'),\n",
      " rdflib.term.URIRef('http://www.w3.org/2000/01/rdf-schema#comment'),\n",
      " rdflib.term.Literal('Value that represents the type of emotion'))\n",
      "(rdflib.term.URIRef('http://www.ics.forth.gr/isl/oae/core#hasMatchedURI'),\n",
      " rdflib.term.URIRef('http://www.w3.org/1999/02/22-rdf-syntax-ns#type'),\n",
      " rdflib.term.URIRef('http://www.w3.org/2002/07/owl#DatatypeProperty'))\n",
      "(rdflib.term.URIRef('mgKB:e437312059282554880_0'),\n",
      " rdflib.term.URIRef('http://www.ics.forth.gr/isl/oae/core#detectedAs'),\n",
      " rdflib.term.Literal('syria', datatype=rdflib.term.URIRef('http://www.w3.org/2000/01/rdf-schema#Literal')))\n",
      "(rdflib.term.URIRef('https://spec.edmcouncil.org/fibo/ontology/FND/Arrangements/Documents/hasReportingPeriod'),\n",
      " rdflib.term.URIRef('http://www.w3.org/2000/01/rdf-schema#comment'),\n",
      " rdflib.term.Literal('specifies the reporting period for which a report or something else, such as a market rate or economic indicator, applies'))\n",
      "(rdflib.term.URIRef('https://spec.edmcouncil.org/fibo/ontology/IND/EconomicIndicators/EconomicIndicators/hasIndicatorValue'),\n",
      " rdflib.term.URIRef('http://www.w3.org/2000/01/rdf-schema#range'),\n",
      " rdflib.term.URIRef('http://www.w3.org/2000/01/rdf-schema#Literal'))\n",
      "(rdflib.term.URIRef('https://spec.edmcouncil.org/fibo/ontology/FND/DatesAndTimes/FinancialDates/hasEndDate'),\n",
      " rdflib.term.URIRef('http://www.w3.org/1999/02/22-rdf-syntax-ns#type'),\n",
      " rdflib.term.URIRef('http://www.w3.org/2002/07/owl#DatatypeProperty'))\n",
      "(rdflib.term.URIRef('http://schema.org/interactionStatistics'),\n",
      " rdflib.term.URIRef('http://www.w3.org/1999/02/22-rdf-syntax-ns#type'),\n",
      " rdflib.term.URIRef('http://www.w3.org/2002/07/owl#ObjectProperty'))\n",
      "(rdflib.term.URIRef('http://schema.org/location'),\n",
      " rdflib.term.URIRef('http://www.w3.org/2000/01/rdf-schema#domain'),\n",
      " rdflib.term.URIRef('http://rdfs.org/sioc/ns#Post'))\n",
      "(rdflib.term.URIRef('http://www.ics.forth.gr/isl/oae/core#confidence'),\n",
      " rdflib.term.URIRef('http://www.w3.org/2000/01/rdf-schema#comment'),\n",
      " rdflib.term.Literal('Relates an entity to a literal representing the confidence of an ambiguous entity.'))\n",
      "(rdflib.term.URIRef('http://www.gsi.dit.upm.es/ontologies/wnaffect/ns#positive-emotion'),\n",
      " rdflib.term.URIRef('http://www.w3.org/1999/02/22-rdf-syntax-ns#type'),\n",
      " rdflib.term.URIRef('http://www.w3.org/2002/07/owl#NamedIndividual'))\n",
      "(rdflib.term.URIRef('http://schema.org/mentions'),\n",
      " rdflib.term.URIRef('http://www.w3.org/2000/01/rdf-schema#range'),\n",
      " rdflib.term.URIRef('http://rdfs.org/sioc/types#sioc_t:Tag'))\n",
      "(rdflib.term.URIRef('https://spec.edmcouncil.org/fibo/ontology/FND/Arrangements/Documents/hasReportingPeriod'),\n",
      " rdflib.term.URIRef('http://www.w3.org/2000/01/rdf-schema#domain'),\n",
      " rdflib.term.URIRef('https://spec.edmcouncil.org/fibo/ontology/IND/EconomicIndicators/EconomicIndicators/UnemploymentRate'))\n",
      "(rdflib.term.URIRef('http://schema.org/addressCountry'),\n",
      " rdflib.term.URIRef('http://www.w3.org/2000/01/rdf-schema#domain'),\n",
      " rdflib.term.URIRef('http://schema.org/Place'))\n",
      "(rdflib.term.URIRef('http://schema.org/description'),\n",
      " rdflib.term.URIRef('http://www.w3.org/2000/01/rdf-schema#range'),\n",
      " rdflib.term.URIRef('http://www.w3.org/2000/01/rdf-schema#Literal'))\n",
      "(rdflib.term.URIRef('https://spec.edmcouncil.org/fibo/ontology/FND/Relations/Relations/isCharacterizedBy'),\n",
      " rdflib.term.URIRef('http://www.w3.org/2000/01/rdf-schema#range'),\n",
      " rdflib.term.URIRef('https://spec.edmcouncil.org/fibo/ontology/IND/EconomicIndicators/EconomicIndicators/GrossDomesticProduct'))\n",
      "(rdflib.term.URIRef('http://schema.org/interactionType'),\n",
      " rdflib.term.URIRef('http://www.w3.org/1999/02/22-rdf-syntax-ns#type'),\n",
      " rdflib.term.URIRef('http://www.w3.org/2002/07/owl#ObjectProperty'))\n",
      "(rdflib.term.URIRef('https://spec.edmcouncil.org/fibo/ontology/FND/DatesAndTimes/FinancialDates/ExplicitDatePeriod'),\n",
      " rdflib.term.URIRef('http://www.w3.org/2000/01/rdf-schema#comment'),\n",
      " rdflib.term.Literal('date period for which the start date, end date, and/or duration are required'))\n",
      "(rdflib.term.URIRef('http://purl.org/dc/elements/1.1/subject'),\n",
      " rdflib.term.URIRef('http://www.w3.org/2000/01/rdf-schema#domain'),\n",
      " rdflib.term.URIRef('http://rdfs.org/sioc/ns#Post'))\n",
      "(rdflib.term.URIRef('http://schema.org/ShareAction'),\n",
      " rdflib.term.URIRef('http://www.w3.org/1999/02/22-rdf-syntax-ns#type'),\n",
      " rdflib.term.URIRef('http://www.w3.org/2002/07/owl#NamedIndividual'))\n",
      "(rdflib.term.URIRef('http://purl.org/dc/elements/1.1/subject'),\n",
      " rdflib.term.URIRef('http://www.w3.org/2000/01/rdf-schema#comment'),\n",
      " rdflib.term.Literal('topic from topic modeling'))\n",
      "(rdflib.term.URIRef('http://rdfs.org/sioc/ns#id'),\n",
      " rdflib.term.URIRef('http://www.w3.org/2000/01/rdf-schema#range'),\n",
      " rdflib.term.URIRef('http://www.w3.org/2000/01/rdf-schema#Literal'))\n",
      "(rdflib.term.URIRef('https://spec.edmcouncil.org/fibo/ontology/FND/Arrangements/Documents/hasReportingPeriod'),\n",
      " rdflib.term.URIRef('http://www.w3.org/2000/01/rdf-schema#range'),\n",
      " rdflib.term.URIRef('https://spec.edmcouncil.org/fibo/ontology/FND/DatesAndTimes/FinancialDates/ExplicitDatePeriod'))\n",
      "(rdflib.term.URIRef('https://spec.edmcouncil.org/fibo/ontology/FND/DatesAndTimes/FinancialDates/hasDuration'),\n",
      " rdflib.term.URIRef('http://www.w3.org/2000/01/rdf-schema#domain'),\n",
      " rdflib.term.URIRef('https://spec.edmcouncil.org/fibo/ontology/FND/DatesAndTimes/FinancialDates/ExplicitDatePeriod'))\n",
      "(rdflib.term.URIRef('http://rdfs.org/sioc/ns#Post'),\n",
      " rdflib.term.URIRef('http://www.w3.org/1999/02/22-rdf-syntax-ns#type'),\n",
      " rdflib.term.URIRef('http://www.w3.org/2002/07/owl#Class'))\n",
      "(rdflib.term.URIRef('https://spec.edmcouncil.org/fibo/ontology/IND/EconomicIndicators/EconomicIndicators/hasIndicatorValue'),\n",
      " rdflib.term.URIRef('http://www.w3.org/1999/02/22-rdf-syntax-ns#type'),\n",
      " rdflib.term.URIRef('http://www.w3.org/2002/07/owl#DatatypeProperty'))\n",
      "(rdflib.term.URIRef('https://spec.edmcouncil.org/fibo/ontology/FND/Utilities/Analytics/hasArgument'),\n",
      " rdflib.term.URIRef('http://www.w3.org/1999/02/22-rdf-syntax-ns#type'),\n",
      " rdflib.term.URIRef('http://www.w3.org/2002/07/owl#ObjectProperty'))\n",
      "(rdflib.term.URIRef('http://schema.org/latitude'),\n",
      " rdflib.term.URIRef('http://www.w3.org/2000/01/rdf-schema#range'),\n",
      " rdflib.term.URIRef('http://www.w3.org/2000/01/rdf-schema#Literal'))\n",
      "(rdflib.term.URIRef('http://www.gsi.dit.upm.es/ontologies/onyx/ns#hasEmotion'),\n",
      " rdflib.term.URIRef('http://www.w3.org/2000/01/rdf-schema#comment'),\n",
      " rdflib.term.Literal('Used to express the individual emotions within an EmotionSet.'))\n",
      "(rdflib.term.URIRef('https://spec.edmcouncil.org/fibo/ontology/FND/Relations/Relations/isCharacterizedBy'),\n",
      " rdflib.term.URIRef('http://www.w3.org/2000/01/rdf-schema#range'),\n",
      " rdflib.term.URIRef('https://spec.edmcouncil.org/fibo/ontology/IND/EconomicIndicators/EconomicIndicators/UnemploymentRate'))\n",
      "(rdflib.term.URIRef('http://rdfs.org/sioc/ns#name'),\n",
      " rdflib.term.URIRef('http://www.w3.org/2000/01/rdf-schema#domain'),\n",
      " rdflib.term.URIRef('http://rdfs.org/sioc/ns#UserAccount'))\n",
      "(rdflib.term.URIRef('http://www.ics.forth.gr/isl/oae/core#confidence'),\n",
      " rdflib.term.URIRef('http://www.w3.org/2000/01/rdf-schema#subPropertyOf'),\n",
      " rdflib.term.URIRef('http://www.w3.org/2002/07/owl#topDataProperty'))\n",
      "(rdflib.term.URIRef('https://spec.edmcouncil.org/fibo/ontology/IND/EconomicIndicators/EconomicIndicators/GrossDomesticProduct'),\n",
      " rdflib.term.URIRef('http://www.w3.org/1999/02/22-rdf-syntax-ns#type'),\n",
      " rdflib.term.URIRef('http://www.w3.org/2002/07/owl#Class'))\n",
      "(rdflib.term.URIRef('http://schema.org/mentions'),\n",
      " rdflib.term.URIRef('http://www.w3.org/2000/01/rdf-schema#domain'),\n",
      " rdflib.term.URIRef('http://rdfs.org/sioc/ns#Post'))\n",
      "(rdflib.term.URIRef('http://purl.org/dc/elements/1.1/created'),\n",
      " rdflib.term.URIRef('http://www.w3.org/1999/02/22-rdf-syntax-ns#type'),\n",
      " rdflib.term.URIRef('http://www.w3.org/2002/07/owl#DatatypeProperty'))\n",
      "(rdflib.term.URIRef('http://schema.org/description'),\n",
      " rdflib.term.URIRef('http://www.w3.org/1999/02/22-rdf-syntax-ns#type'),\n",
      " rdflib.term.URIRef('http://www.w3.org/2002/07/owl#DatatypeProperty'))\n",
      "(rdflib.term.URIRef('http://www.w3.org/2000/01/rdf-schema#label'),\n",
      " rdflib.term.URIRef('http://www.w3.org/2000/01/rdf-schema#domain'),\n",
      " rdflib.term.URIRef('http://rdfs.org/sioc/types#sioc_t:Tag'))\n",
      "(rdflib.term.URIRef('http://schema.org/interactionType'),\n",
      " rdflib.term.URIRef('http://www.w3.org/2000/01/rdf-schema#domain'),\n",
      " rdflib.term.URIRef('http://schema.org/InteractionCounter'))\n",
      "(rdflib.term.URIRef('http://schema.org/Place'),\n",
      " rdflib.term.URIRef('http://www.w3.org/1999/02/22-rdf-syntax-ns#type'),\n",
      " rdflib.term.URIRef('http://www.w3.org/2002/07/owl#Class'))\n",
      "(rdflib.term.URIRef('http://www.gsi.dit.upm.es/ontologies/onyx/ns#hasEmotionSet'),\n",
      " rdflib.term.URIRef('http://www.w3.org/2000/01/rdf-schema#comment'),\n",
      " rdflib.term.Literal('Indicates that a certain text has a subjective set of emotions expressed in it.'))\n",
      "(rdflib.term.URIRef('http://schema.org/ReplyAction'),\n",
      " rdflib.term.URIRef('http://www.w3.org/1999/02/22-rdf-syntax-ns#type'),\n",
      " rdflib.term.URIRef('http://www.w3.org/2002/07/owl#NamedIndividual'))\n",
      "(rdflib.term.URIRef('http://schema.org/mentions'),\n",
      " rdflib.term.URIRef('http://www.w3.org/1999/02/22-rdf-syntax-ns#type'),\n",
      " rdflib.term.URIRef('http://www.w3.org/2002/07/owl#ObjectProperty'))\n",
      "(rdflib.term.URIRef('http://schema.org/interactionStatistics'),\n",
      " rdflib.term.URIRef('http://www.w3.org/2000/01/rdf-schema#domain'),\n",
      " rdflib.term.URIRef('http://rdfs.org/sioc/ns#Post'))\n",
      "(rdflib.term.URIRef('http://www.ics.forth.gr/isl/oae/core#hasMatchedURI'),\n",
      " rdflib.term.URIRef('http://www.w3.org/2000/01/rdf-schema#domain'),\n",
      " rdflib.term.URIRef('http://www.ics.forth.gr/isl/oae/core#Entity'))\n",
      "(rdflib.term.URIRef('http://schema.org/latitude'),\n",
      " rdflib.term.URIRef('http://www.w3.org/1999/02/22-rdf-syntax-ns#type'),\n",
      " rdflib.term.URIRef('http://www.w3.org/2002/07/owl#DatatypeProperty'))\n",
      "(rdflib.term.URIRef('http://rdfs.org/sioc/ns#has_creator'),\n",
      " rdflib.term.URIRef('http://www.w3.org/2000/01/rdf-schema#domain'),\n",
      " rdflib.term.URIRef('http://rdfs.org/sioc/ns#Post'))\n",
      "(rdflib.term.URIRef('https://spec.edmcouncil.org/fibo/ontology/FND/Arrangements/Documents/hasReportingPeriod'),\n",
      " rdflib.term.URIRef('http://www.w3.org/2000/01/rdf-schema#domain'),\n",
      " rdflib.term.URIRef('https://spec.edmcouncil.org/fibo/ontology/IND/EconomicIndicators/EconomicIndicators/GrossDomesticProduct'))\n"
     ]
    }
   ],
   "source": [
    "for smt in g:\n",
    "    pprint(smt)"
   ]
  },
  {
   "cell_type": "code",
   "execution_count": 10,
   "id": "adab29ac-222f-4640-886e-d0a9f5975104",
   "metadata": {},
   "outputs": [],
   "source": [
    "# df = pd.read_csv('input/tweets_migrationsKB_15052021.csv', index_col=0, low_memory=False)"
   ]
  },
  {
   "cell_type": "markdown",
   "id": "3581c1d2-994f-4e3a-957d-195d3db9731d",
   "metadata": {},
   "source": [
    "### Generate random uuid for author_id and post_id"
   ]
  },
  {
   "cell_type": "code",
   "execution_count": 23,
   "id": "b017240b-cc42-4414-aed3-1edab7ba0631",
   "metadata": {},
   "outputs": [],
   "source": [
    "df.id = df.id.astype('str')"
   ]
  },
  {
   "cell_type": "code",
   "execution_count": 61,
   "id": "b082ef5e-37bb-4441-ad4f-18e7195fb224",
   "metadata": {},
   "outputs": [],
   "source": [
    "df['id_gen']= df['id'].parallel_apply(lambda x: str(uuid4()))"
   ]
  },
  {
   "cell_type": "code",
   "execution_count": 62,
   "id": "630cbe78-5cbd-4642-a435-52e6d64d4c12",
   "metadata": {},
   "outputs": [
    {
     "data": {
      "text/plain": [
       "True"
      ]
     },
     "execution_count": 62,
     "metadata": {},
     "output_type": "execute_result"
    }
   ],
   "source": [
    "len(df) ==len(list(set(df.id_gen.tolist()))) ### all unique ids."
   ]
  },
  {
   "cell_type": "code",
   "execution_count": 36,
   "id": "ce1ddcd2-7947-4009-97a3-bd02e72819a0",
   "metadata": {},
   "outputs": [],
   "source": [
    "df.author_id = df.author_id.astype('str')"
   ]
  },
  {
   "cell_type": "code",
   "execution_count": 40,
   "id": "37058c5e-fec5-452d-8a2b-678a46b55dd1",
   "metadata": {},
   "outputs": [
    {
     "data": {
      "text/plain": [
       "64602"
      ]
     },
     "execution_count": 40,
     "metadata": {},
     "output_type": "execute_result"
    }
   ],
   "source": [
    "len(list(set(df.author_id.tolist())))"
   ]
  },
  {
   "cell_type": "code",
   "execution_count": 42,
   "id": "c6c7ed5f-df81-475f-9269-568a3d9f14ca",
   "metadata": {
    "scrolled": true,
    "tags": []
   },
   "outputs": [],
   "source": [
    "author_ids = list(set(df.author_id.tolist()))"
   ]
  },
  {
   "cell_type": "code",
   "execution_count": 44,
   "id": "c3ba9fd8-92bb-4d40-8c0f-8d96c16ef61d",
   "metadata": {},
   "outputs": [],
   "source": [
    "author_df = pd.DataFrame({'author_id': author_ids})"
   ]
  },
  {
   "cell_type": "code",
   "execution_count": 50,
   "id": "d535a6cf-7b99-4a36-bef7-152e28bbc762",
   "metadata": {},
   "outputs": [],
   "source": [
    "author_df['author_id_gen']= author_df['author_id'].parallel_apply(lambda x: str(uuid4()))"
   ]
  },
  {
   "cell_type": "code",
   "execution_count": 53,
   "id": "d369e6bd-328b-40bb-bc0d-fc66cb61d25a",
   "metadata": {},
   "outputs": [
    {
     "data": {
      "text/plain": [
       "True"
      ]
     },
     "execution_count": 53,
     "metadata": {},
     "output_type": "execute_result"
    }
   ],
   "source": [
    "len(author_df) == len(list(set(author_df.author_id_gen.tolist())))"
   ]
  },
  {
   "cell_type": "code",
   "execution_count": 63,
   "id": "653d0a81-525b-4320-a52e-2e25376d8402",
   "metadata": {},
   "outputs": [],
   "source": [
    "joined_df = pd.merge(df, author_df, how='inner', on=['author_id'])"
   ]
  },
  {
   "cell_type": "code",
   "execution_count": 64,
   "id": "29d4f0d8-17ef-444e-97a5-7e3d12744ca7",
   "metadata": {},
   "outputs": [
    {
     "data": {
      "text/plain": [
       "64602"
      ]
     },
     "execution_count": 64,
     "metadata": {},
     "output_type": "execute_result"
    }
   ],
   "source": [
    "len(list(set(joined_df.author_id_gen.tolist())))"
   ]
  },
  {
   "cell_type": "markdown",
   "id": "38c74d18-09ae-4807-9250-844663167b85",
   "metadata": {},
   "source": [
    "### get the primitive topic of the post"
   ]
  },
  {
   "cell_type": "code",
   "execution_count": 68,
   "id": "35ae13cc-f4f7-428e-bf18-d757a13b74b2",
   "metadata": {},
   "outputs": [],
   "source": [
    "from ast import literal_eval"
   ]
  },
  {
   "cell_type": "code",
   "execution_count": 71,
   "id": "a31f6b59-bed2-4f52-8679-d6d9ea8d3b68",
   "metadata": {},
   "outputs": [],
   "source": [
    "joined_df['prim_topic'] = joined_df['topics'].parallel_apply(lambda x: literal_eval(x)[0])"
   ]
  },
  {
   "cell_type": "code",
   "execution_count": 72,
   "id": "f026ac6b-9b94-4e78-836b-d1ef75e2e2d0",
   "metadata": {},
   "outputs": [
    {
     "data": {
      "text/plain": [
       "0         12\n",
       "1         48\n",
       "2         48\n",
       "3         16\n",
       "4         27\n",
       "          ..\n",
       "177090    34\n",
       "177091    48\n",
       "177092     8\n",
       "177093     4\n",
       "177094    48\n",
       "Name: prim_topic, Length: 177095, dtype: int64"
      ]
     },
     "execution_count": 72,
     "metadata": {},
     "output_type": "execute_result"
    }
   ],
   "source": [
    "joined_df.prim_topic"
   ]
  },
  {
   "cell_type": "code",
   "execution_count": 109,
   "id": "346eef95-9fe6-4412-a66a-adfed360d8b8",
   "metadata": {},
   "outputs": [],
   "source": [
    "joined_df.to_csv('input/migrationsKB_uuid.csv', index=False)"
   ]
  },
  {
   "cell_type": "code",
   "execution_count": null,
   "id": "bd563c97-746d-48e0-8487-317f3932987d",
   "metadata": {},
   "outputs": [],
   "source": []
  },
  {
   "cell_type": "code",
   "execution_count": 128,
   "id": "1871ccfe-2a92-4124-87ea-7fbd4a77a06e",
   "metadata": {},
   "outputs": [],
   "source": [
    "with open('input/entities_dict_extracted.json') as file:\n",
    "    entities_dict = json.load(file)"
   ]
  },
  {
   "cell_type": "code",
   "execution_count": 130,
   "id": "cc2c28b1-3152-430b-8339-5a9111c0e564",
   "metadata": {},
   "outputs": [
    {
     "data": {
      "text/plain": [
       "{'description': ' Syria (), officially the Syrian Arab Republic (), is a country in Western Asia, bordering Lebanon to the southwest, the Mediterranean Sea to the west, Turkey to the north, Iraq to the east, Jordan to the south, and Israel to the southwest. A country of fert',\n",
       " 'entity': 'Syria',\n",
       " 'url': 'https://en.wikipedia.org/wiki?curid=7515849'}"
      ]
     },
     "execution_count": 130,
     "metadata": {},
     "output_type": "execute_result"
    }
   ],
   "source": [
    "entities_dict['1288506']"
   ]
  },
  {
   "cell_type": "code",
   "execution_count": null,
   "id": "aa547828-07c9-4bb8-a79f-0d040b7fbc76",
   "metadata": {},
   "outputs": [],
   "source": []
  },
  {
   "cell_type": "markdown",
   "id": "b8bf3ebd-8f3e-4ae6-bf40-c6a2ea365d69",
   "metadata": {
    "tags": []
   },
   "source": [
    " ## test on 5 post "
   ]
  },
  {
   "cell_type": "code",
   "execution_count": 11,
   "id": "a04c3036-0309-4c80-bb25-bb76e255fde8",
   "metadata": {},
   "outputs": [
    {
     "name": "stderr",
     "output_type": "stream",
     "text": [
      "/home/yiyi/anaconda3/envs/migr/lib/python3.8/site-packages/IPython/core/interactiveshell.py:3165: DtypeWarning: Columns (29,30,31,32,33,34,35,36,37,38,39,40) have mixed types.Specify dtype option on import or set low_memory=False.\n",
      "  has_raised = await self.run_ast_nodes(code_ast.body, cell_name,\n"
     ]
    }
   ],
   "source": [
    "df= pd.read_csv('input/migrationsKB_uuid.csv')"
   ]
  },
  {
   "cell_type": "code",
   "execution_count": 26,
   "id": "0d5ab131-5bf4-4995-bd4f-2ef686b32ced",
   "metadata": {},
   "outputs": [
    {
     "data": {
      "text/html": [
       "<div>\n",
       "<style scoped>\n",
       "    .dataframe tbody tr th:only-of-type {\n",
       "        vertical-align: middle;\n",
       "    }\n",
       "\n",
       "    .dataframe tbody tr th {\n",
       "        vertical-align: top;\n",
       "    }\n",
       "\n",
       "    .dataframe thead th {\n",
       "        text-align: right;\n",
       "    }\n",
       "</style>\n",
       "<table border=\"1\" class=\"dataframe\">\n",
       "  <thead>\n",
       "    <tr style=\"text-align: right;\">\n",
       "      <th></th>\n",
       "      <th>tokens</th>\n",
       "      <th>topics</th>\n",
       "      <th>id</th>\n",
       "      <th>texts</th>\n",
       "      <th>hashtags</th>\n",
       "      <th>entities</th>\n",
       "      <th>urls</th>\n",
       "      <th>processed_tokens</th>\n",
       "      <th>processed_text</th>\n",
       "      <th>processed_tm</th>\n",
       "      <th>...</th>\n",
       "      <th>twi_long</th>\n",
       "      <th>twi_lat</th>\n",
       "      <th>user_mentions</th>\n",
       "      <th>retweet_count</th>\n",
       "      <th>reply_count</th>\n",
       "      <th>like_count</th>\n",
       "      <th>quote_count</th>\n",
       "      <th>id_gen</th>\n",
       "      <th>author_id_gen</th>\n",
       "      <th>prim_topic</th>\n",
       "    </tr>\n",
       "  </thead>\n",
       "  <tbody>\n",
       "    <tr>\n",
       "      <th>0</th>\n",
       "      <td>['missed', 'beginning', 'aching', 'notice', 'y...</td>\n",
       "      <td>[12, 48, 32]</td>\n",
       "      <td>285908615561363456</td>\n",
       "      <td>Completely missed the New Year beginning, too ...</td>\n",
       "      <td>['cardsagainsthumanity']</td>\n",
       "      <td>[]</td>\n",
       "      <td>[]</td>\n",
       "      <td>['completely', 'missed', 'new', 'year', 'begin...</td>\n",
       "      <td>completely missed new year beginning engrossed...</td>\n",
       "      <td>[18416, 374, 16452, 4179, 24601, 15425, 17097,...</td>\n",
       "      <td>...</td>\n",
       "      <td>-1.258131</td>\n",
       "      <td>53.100616</td>\n",
       "      <td>[]</td>\n",
       "      <td>0.0</td>\n",
       "      <td>0.0</td>\n",
       "      <td>0.0</td>\n",
       "      <td>0.0</td>\n",
       "      <td>3165a1219c1642959c0f220a5826dc2a</td>\n",
       "      <td>294d47783c5e4408ab129a6a93fb0a15</td>\n",
       "      <td>12</td>\n",
       "    </tr>\n",
       "    <tr>\n",
       "      <th>1</th>\n",
       "      <td>['trouble', 'call', 'cardsagainsthumanity']</td>\n",
       "      <td>[48, 17, 3]</td>\n",
       "      <td>313053990902456320</td>\n",
       "      <td>If you're in trouble, you need to call... #car...</td>\n",
       "      <td>['cardsagainsthumanity']</td>\n",
       "      <td>[]</td>\n",
       "      <td>['https://twitter.com/OperaticBacon/status/313...</td>\n",
       "      <td>['trouble', 'need', 'cardsagainsthumanity']</td>\n",
       "      <td>trouble need cardsagainsthumanity</td>\n",
       "      <td>[8381, 21418, 24601]</td>\n",
       "      <td>...</td>\n",
       "      <td>-1.258288</td>\n",
       "      <td>53.100615</td>\n",
       "      <td>[]</td>\n",
       "      <td>0.0</td>\n",
       "      <td>0.0</td>\n",
       "      <td>0.0</td>\n",
       "      <td>0.0</td>\n",
       "      <td>a256d6d6c7ba48acbee98e1d4625802d</td>\n",
       "      <td>294d47783c5e4408ab129a6a93fb0a15</td>\n",
       "      <td>48</td>\n",
       "    </tr>\n",
       "    <tr>\n",
       "      <th>2</th>\n",
       "      <td>['awesome', 'yourewelcome']</td>\n",
       "      <td>[48, 31, 1]</td>\n",
       "      <td>285915248383361026</td>\n",
       "      <td>Damien_Sandow is awesome #YoureWelcome</td>\n",
       "      <td>['YoureWelcome']</td>\n",
       "      <td>['Damien_Sandow']</td>\n",
       "      <td>[]</td>\n",
       "      <td>['damien_sandow', 'awesome', 'yourewelcome']</td>\n",
       "      <td>damien_sandow awesome yourewelcome</td>\n",
       "      <td>[3849, 14438]</td>\n",
       "      <td>...</td>\n",
       "      <td>-0.637335</td>\n",
       "      <td>51.917134</td>\n",
       "      <td>[]</td>\n",
       "      <td>0.0</td>\n",
       "      <td>0.0</td>\n",
       "      <td>0.0</td>\n",
       "      <td>0.0</td>\n",
       "      <td>5773523185ca42ad8b13100511b044ff</td>\n",
       "      <td>dfe2c45cee5c47d9a438191428ba9370</td>\n",
       "      <td>48</td>\n",
       "    </tr>\n",
       "    <tr>\n",
       "      <th>3</th>\n",
       "      <td>['needed', 'asylum', 'ryan']</td>\n",
       "      <td>[16, 17, 48]</td>\n",
       "      <td>285921849446117376</td>\n",
       "      <td>Ryan was looking at me like I needed to be in ...</td>\n",
       "      <td>[]</td>\n",
       "      <td>['Ryan']</td>\n",
       "      <td>[]</td>\n",
       "      <td>['ryan', 'looking', 'like', 'needed', 'asylum'...</td>\n",
       "      <td>ryan looking like needed asylum troublemaker came</td>\n",
       "      <td>[21183, 3768, 11479]</td>\n",
       "      <td>...</td>\n",
       "      <td>-0.606182</td>\n",
       "      <td>52.285503</td>\n",
       "      <td>[]</td>\n",
       "      <td>0.0</td>\n",
       "      <td>0.0</td>\n",
       "      <td>0.0</td>\n",
       "      <td>0.0</td>\n",
       "      <td>bae9a2b6b0ea49aab0d4df653150e92e</td>\n",
       "      <td>6ab49c01aef549b687d1780b877fc19e</td>\n",
       "      <td>16</td>\n",
       "    </tr>\n",
       "    <tr>\n",
       "      <th>4</th>\n",
       "      <td>['stuck', 'illegal', 'work', 'lol', 'partying']</td>\n",
       "      <td>[27, 40, 45]</td>\n",
       "      <td>285997288793460736</td>\n",
       "      <td>@CapitalOfficial wish I was partying.... I'm s...</td>\n",
       "      <td>['illegal']</td>\n",
       "      <td>[]</td>\n",
       "      <td>[]</td>\n",
       "      <td>['wish', 'partying', 'stuck', 'work', 'illegal...</td>\n",
       "      <td>wish partying stuck work illegal lol</td>\n",
       "      <td>[24668, 4434, 21729, 19124, 21887]</td>\n",
       "      <td>...</td>\n",
       "      <td>-0.619785</td>\n",
       "      <td>53.570898</td>\n",
       "      <td>['CapitalOfficial']</td>\n",
       "      <td>1.0</td>\n",
       "      <td>1.0</td>\n",
       "      <td>1.0</td>\n",
       "      <td>0.0</td>\n",
       "      <td>56606f959bb54df5a1330b3520907119</td>\n",
       "      <td>24e422c1212543b784dc7615a4c476a8</td>\n",
       "      <td>27</td>\n",
       "    </tr>\n",
       "  </tbody>\n",
       "</table>\n",
       "<p>5 rows × 60 columns</p>\n",
       "</div>"
      ],
      "text/plain": [
       "                                              tokens        topics  \\\n",
       "0  ['missed', 'beginning', 'aching', 'notice', 'y...  [12, 48, 32]   \n",
       "1        ['trouble', 'call', 'cardsagainsthumanity']   [48, 17, 3]   \n",
       "2                        ['awesome', 'yourewelcome']   [48, 31, 1]   \n",
       "3                       ['needed', 'asylum', 'ryan']  [16, 17, 48]   \n",
       "4    ['stuck', 'illegal', 'work', 'lol', 'partying']  [27, 40, 45]   \n",
       "\n",
       "                   id                                              texts  \\\n",
       "0  285908615561363456  Completely missed the New Year beginning, too ...   \n",
       "1  313053990902456320  If you're in trouble, you need to call... #car...   \n",
       "2  285915248383361026             Damien_Sandow is awesome #YoureWelcome   \n",
       "3  285921849446117376  Ryan was looking at me like I needed to be in ...   \n",
       "4  285997288793460736  @CapitalOfficial wish I was partying.... I'm s...   \n",
       "\n",
       "                   hashtags           entities  \\\n",
       "0  ['cardsagainsthumanity']                 []   \n",
       "1  ['cardsagainsthumanity']                 []   \n",
       "2          ['YoureWelcome']  ['Damien_Sandow']   \n",
       "3                        []           ['Ryan']   \n",
       "4               ['illegal']                 []   \n",
       "\n",
       "                                                urls  \\\n",
       "0                                                 []   \n",
       "1  ['https://twitter.com/OperaticBacon/status/313...   \n",
       "2                                                 []   \n",
       "3                                                 []   \n",
       "4                                                 []   \n",
       "\n",
       "                                    processed_tokens  \\\n",
       "0  ['completely', 'missed', 'new', 'year', 'begin...   \n",
       "1        ['trouble', 'need', 'cardsagainsthumanity']   \n",
       "2       ['damien_sandow', 'awesome', 'yourewelcome']   \n",
       "3  ['ryan', 'looking', 'like', 'needed', 'asylum'...   \n",
       "4  ['wish', 'partying', 'stuck', 'work', 'illegal...   \n",
       "\n",
       "                                      processed_text  \\\n",
       "0  completely missed new year beginning engrossed...   \n",
       "1                  trouble need cardsagainsthumanity   \n",
       "2                 damien_sandow awesome yourewelcome   \n",
       "3  ryan looking like needed asylum troublemaker came   \n",
       "4               wish partying stuck work illegal lol   \n",
       "\n",
       "                                        processed_tm  ...  twi_long  \\\n",
       "0  [18416, 374, 16452, 4179, 24601, 15425, 17097,...  ... -1.258131   \n",
       "1                               [8381, 21418, 24601]  ... -1.258288   \n",
       "2                                      [3849, 14438]  ... -0.637335   \n",
       "3                               [21183, 3768, 11479]  ... -0.606182   \n",
       "4                 [24668, 4434, 21729, 19124, 21887]  ... -0.619785   \n",
       "\n",
       "     twi_lat        user_mentions retweet_count reply_count  like_count  \\\n",
       "0  53.100616                   []           0.0         0.0         0.0   \n",
       "1  53.100615                   []           0.0         0.0         0.0   \n",
       "2  51.917134                   []           0.0         0.0         0.0   \n",
       "3  52.285503                   []           0.0         0.0         0.0   \n",
       "4  53.570898  ['CapitalOfficial']           1.0         1.0         1.0   \n",
       "\n",
       "   quote_count                            id_gen  \\\n",
       "0          0.0  3165a1219c1642959c0f220a5826dc2a   \n",
       "1          0.0  a256d6d6c7ba48acbee98e1d4625802d   \n",
       "2          0.0  5773523185ca42ad8b13100511b044ff   \n",
       "3          0.0  bae9a2b6b0ea49aab0d4df653150e92e   \n",
       "4          0.0  56606f959bb54df5a1330b3520907119   \n",
       "\n",
       "                      author_id_gen prim_topic  \n",
       "0  294d47783c5e4408ab129a6a93fb0a15         12  \n",
       "1  294d47783c5e4408ab129a6a93fb0a15         48  \n",
       "2  dfe2c45cee5c47d9a438191428ba9370         48  \n",
       "3  6ab49c01aef549b687d1780b877fc19e         16  \n",
       "4  24e422c1212543b784dc7615a4c476a8         27  \n",
       "\n",
       "[5 rows x 60 columns]"
      ]
     },
     "execution_count": 26,
     "metadata": {},
     "output_type": "execute_result"
    }
   ],
   "source": [
    "df.head()"
   ]
  },
  {
   "cell_type": "code",
   "execution_count": null,
   "id": "d02d4876-5ff3-4149-89de-f3e11556e6e0",
   "metadata": {},
   "outputs": [],
   "source": [
    "df[]"
   ]
  },
  {
   "cell_type": "code",
   "execution_count": 21,
   "id": "3580d96b-5cc9-4708-9354-3888b23e1d26",
   "metadata": {
    "tags": []
   },
   "outputs": [],
   "source": [
    "df['author_id_gen']= df['author_id_gen'].parallel_apply(lambda x: x.replace('-',''))"
   ]
  },
  {
   "cell_type": "code",
   "execution_count": 25,
   "id": "740a0f0d-f5a0-4c38-86b3-fe5c2e80be14",
   "metadata": {},
   "outputs": [],
   "source": [
    "df['id_gen']= df['id_gen'].parallel_apply(lambda x: x.replace('-',''))"
   ]
  },
  {
   "cell_type": "code",
   "execution_count": 23,
   "id": "d286f449-614e-4b48-b6bf-0728788e2843",
   "metadata": {},
   "outputs": [
    {
     "data": {
      "text/plain": [
       "64602"
      ]
     },
     "execution_count": 23,
     "metadata": {},
     "output_type": "execute_result"
    }
   ],
   "source": [
    "len(list(set(df.author_id_gen.tolist())))"
   ]
  },
  {
   "cell_type": "code",
   "execution_count": 24,
   "id": "881af140-668d-4af2-8f49-a008ee84cd3c",
   "metadata": {},
   "outputs": [
    {
     "data": {
      "text/plain": [
       "64602"
      ]
     },
     "execution_count": 24,
     "metadata": {},
     "output_type": "execute_result"
    }
   ],
   "source": [
    "len(list(set(df.author_id.tolist())))"
   ]
  },
  {
   "cell_type": "code",
   "execution_count": 27,
   "id": "6018a8fc-d9e3-4c4f-aac3-a6a51142ad97",
   "metadata": {},
   "outputs": [],
   "source": [
    "df.to_csv('input/migrationsKB_uuid.csv', index=False)"
   ]
  },
  {
   "cell_type": "code",
   "execution_count": null,
   "id": "95407882-2a9d-40e1-bbcf-3ca7c677df69",
   "metadata": {},
   "outputs": [],
   "source": []
  },
  {
   "cell_type": "code",
   "execution_count": null,
   "id": "60b9e2f3-f64c-4f22-8a85-e712c67b5ce2",
   "metadata": {},
   "outputs": [],
   "source": []
  },
  {
   "cell_type": "code",
   "execution_count": 85,
   "id": "f29012c4-9a68-4207-b001-9dd53d537070",
   "metadata": {},
   "outputs": [],
   "source": [
    "test_df = df.sample(n=5)"
   ]
  },
  {
   "cell_type": "code",
   "execution_count": 93,
   "id": "22b265f8-9528-4743-a976-d1ba8491e628",
   "metadata": {},
   "outputs": [
    {
     "data": {
      "text/html": [
       "<div>\n",
       "<style scoped>\n",
       "    .dataframe tbody tr th:only-of-type {\n",
       "        vertical-align: middle;\n",
       "    }\n",
       "\n",
       "    .dataframe tbody tr th {\n",
       "        vertical-align: top;\n",
       "    }\n",
       "\n",
       "    .dataframe thead th {\n",
       "        text-align: right;\n",
       "    }\n",
       "</style>\n",
       "<table border=\"1\" class=\"dataframe\">\n",
       "  <thead>\n",
       "    <tr style=\"text-align: right;\">\n",
       "      <th></th>\n",
       "      <th>tokens</th>\n",
       "      <th>topics</th>\n",
       "      <th>id</th>\n",
       "      <th>texts</th>\n",
       "      <th>hashtags</th>\n",
       "      <th>entities</th>\n",
       "      <th>urls</th>\n",
       "      <th>processed_tokens</th>\n",
       "      <th>processed_text</th>\n",
       "      <th>processed_tm</th>\n",
       "      <th>...</th>\n",
       "      <th>twi_long</th>\n",
       "      <th>twi_lat</th>\n",
       "      <th>user_mentions</th>\n",
       "      <th>retweet_count</th>\n",
       "      <th>reply_count</th>\n",
       "      <th>like_count</th>\n",
       "      <th>quote_count</th>\n",
       "      <th>id_gen</th>\n",
       "      <th>author_id_gen</th>\n",
       "      <th>prim_topic</th>\n",
       "    </tr>\n",
       "  </thead>\n",
       "  <tbody>\n",
       "    <tr>\n",
       "      <th>3810</th>\n",
       "      <td>['gay', 'mutilated', 'syrian', 'egaylity', 'is...</td>\n",
       "      <td>[31, 49, 46]</td>\n",
       "      <td>761442161468375041</td>\n",
       "      <td>#Egaylity -  Headless, mutilated body of gay S...</td>\n",
       "      <td>['Egaylity']</td>\n",
       "      <td>['Istanbul']</td>\n",
       "      <td>['http://dlvr.it/LyXxzV']</td>\n",
       "      <td>['egaylity', 'headless', 'mutilated', 'body', ...</td>\n",
       "      <td>egaylity headless mutilated body gay syrian re...</td>\n",
       "      <td>[6762, 20611, 4622, 19518, 3090, 5981, 21125, ...</td>\n",
       "      <td>...</td>\n",
       "      <td>0.020313</td>\n",
       "      <td>51.619671</td>\n",
       "      <td>[]</td>\n",
       "      <td>0.0</td>\n",
       "      <td>0.0</td>\n",
       "      <td>0.0</td>\n",
       "      <td>0.0</td>\n",
       "      <td>41caf26480a94ce3bb5cfba1453af709</td>\n",
       "      <td>391ed5c44a1c4d5bb5b64b6725b061da</td>\n",
       "      <td>31</td>\n",
       "    </tr>\n",
       "    <tr>\n",
       "      <th>22256</th>\n",
       "      <td>['policemen', 'news', 'graves', 'shallow', 'th...</td>\n",
       "      <td>[38, 13, 43]</td>\n",
       "      <td>594589824713039874</td>\n",
       "      <td>DE-News : Thai policemen measure shallow grave...</td>\n",
       "      <td>[]</td>\n",
       "      <td>['Songkhla', 'Thailand']</td>\n",
       "      <td>['http://dlvr.it/9dzY02']</td>\n",
       "      <td>['denews', 'thai', 'policeman', 'measure', 'sh...</td>\n",
       "      <td>denews thai policeman measure shallow graf son...</td>\n",
       "      <td>[23809, 5362, 9345, 4370, 18814, 6209, 5836, 1...</td>\n",
       "      <td>...</td>\n",
       "      <td>13.467578</td>\n",
       "      <td>52.591320</td>\n",
       "      <td>[]</td>\n",
       "      <td>0.0</td>\n",
       "      <td>0.0</td>\n",
       "      <td>0.0</td>\n",
       "      <td>0.0</td>\n",
       "      <td>f7b634e3832e4533a3539bb821b21d01</td>\n",
       "      <td>37000cfe17c5461d841198901ae066b2</td>\n",
       "      <td>38</td>\n",
       "    </tr>\n",
       "    <tr>\n",
       "      <th>17833</th>\n",
       "      <td>['demands', 'means', 'heard', 'madness', 'vote...</td>\n",
       "      <td>[12, 25, 23]</td>\n",
       "      <td>372478328911167488</td>\n",
       "      <td>@SkyNews I have never heard such nonsense this...</td>\n",
       "      <td>[]</td>\n",
       "      <td>[]</td>\n",
       "      <td>[]</td>\n",
       "      <td>['heard', 'nonsense', 'mean', 'migrant', 'use'...</td>\n",
       "      <td>heard nonsense mean migrant use vote demand of...</td>\n",
       "      <td>[5746, 18424, 5344, 22425, 15585, 20373, 412, ...</td>\n",
       "      <td>...</td>\n",
       "      <td>-1.069142</td>\n",
       "      <td>50.814039</td>\n",
       "      <td>['SkyNews']</td>\n",
       "      <td>0.0</td>\n",
       "      <td>1.0</td>\n",
       "      <td>0.0</td>\n",
       "      <td>0.0</td>\n",
       "      <td>b98ac6b4830949acb6049172ab33011b</td>\n",
       "      <td>280f2f871de047a89c3a8258170831e0</td>\n",
       "      <td>12</td>\n",
       "    </tr>\n",
       "    <tr>\n",
       "      <th>94002</th>\n",
       "      <td>['faces', 'spring', 'violets', 'home', 'welcom...</td>\n",
       "      <td>[26, 48, 40]</td>\n",
       "      <td>850420141015932930</td>\n",
       "      <td>Hellooooo!!! ❤ these little faces that #welcom...</td>\n",
       "      <td>['welcome', 'home', 'welcomehome', 'violets', ...</td>\n",
       "      <td>[]</td>\n",
       "      <td>['https://www.instagram.com/p/BSmEKy0D8Lr/']</td>\n",
       "      <td>['hellooooo', 'little', 'face', 'welcome', 'ho...</td>\n",
       "      <td>hellooooo little face welcome home welcomehome...</td>\n",
       "      <td>[11475, 17470, 23317, 16177, 13879]</td>\n",
       "      <td>...</td>\n",
       "      <td>4.273060</td>\n",
       "      <td>52.108060</td>\n",
       "      <td>[]</td>\n",
       "      <td>0.0</td>\n",
       "      <td>0.0</td>\n",
       "      <td>0.0</td>\n",
       "      <td>0.0</td>\n",
       "      <td>6b8100005fda484abbfc196a5740e84e</td>\n",
       "      <td>8b1f12dc487b478f9ef24828afe7b51f</td>\n",
       "      <td>26</td>\n",
       "    </tr>\n",
       "    <tr>\n",
       "      <th>94864</th>\n",
       "      <td>['drink', 'food', 'cooking', 'europe', 'family...</td>\n",
       "      <td>[19, 31, 38]</td>\n",
       "      <td>976506749967626242</td>\n",
       "      <td>I tried. #green #crafts #syria #cooking #fitne...</td>\n",
       "      <td>['green', 'crafts', 'syria', 'cooking', 'fitne...</td>\n",
       "      <td>[]</td>\n",
       "      <td>['https://www.instagram.com/p/Bgl9tgJA9UJ/']</td>\n",
       "      <td>['tried', 'green', 'crafts', 'syria', 'cooking...</td>\n",
       "      <td>tried green crafts syria cooking fitness wine ...</td>\n",
       "      <td>[16103, 13240, 15016, 1619, 17349, 18001, 1287...</td>\n",
       "      <td>...</td>\n",
       "      <td>0.750000</td>\n",
       "      <td>51.250000</td>\n",
       "      <td>[]</td>\n",
       "      <td>0.0</td>\n",
       "      <td>0.0</td>\n",
       "      <td>0.0</td>\n",
       "      <td>0.0</td>\n",
       "      <td>33be2b4a09734333a4aaee9858bb2fe6</td>\n",
       "      <td>a279848f2d234bc2951d88f5ba144227</td>\n",
       "      <td>19</td>\n",
       "    </tr>\n",
       "  </tbody>\n",
       "</table>\n",
       "<p>5 rows × 60 columns</p>\n",
       "</div>"
      ],
      "text/plain": [
       "                                                  tokens        topics  \\\n",
       "3810   ['gay', 'mutilated', 'syrian', 'egaylity', 'is...  [31, 49, 46]   \n",
       "22256  ['policemen', 'news', 'graves', 'shallow', 'th...  [38, 13, 43]   \n",
       "17833  ['demands', 'means', 'heard', 'madness', 'vote...  [12, 25, 23]   \n",
       "94002  ['faces', 'spring', 'violets', 'home', 'welcom...  [26, 48, 40]   \n",
       "94864  ['drink', 'food', 'cooking', 'europe', 'family...  [19, 31, 38]   \n",
       "\n",
       "                       id                                              texts  \\\n",
       "3810   761442161468375041  #Egaylity -  Headless, mutilated body of gay S...   \n",
       "22256  594589824713039874  DE-News : Thai policemen measure shallow grave...   \n",
       "17833  372478328911167488  @SkyNews I have never heard such nonsense this...   \n",
       "94002  850420141015932930  Hellooooo!!! ❤ these little faces that #welcom...   \n",
       "94864  976506749967626242  I tried. #green #crafts #syria #cooking #fitne...   \n",
       "\n",
       "                                                hashtags  \\\n",
       "3810                                        ['Egaylity']   \n",
       "22256                                                 []   \n",
       "17833                                                 []   \n",
       "94002  ['welcome', 'home', 'welcomehome', 'violets', ...   \n",
       "94864  ['green', 'crafts', 'syria', 'cooking', 'fitne...   \n",
       "\n",
       "                       entities                                          urls  \\\n",
       "3810               ['Istanbul']                     ['http://dlvr.it/LyXxzV']   \n",
       "22256  ['Songkhla', 'Thailand']                     ['http://dlvr.it/9dzY02']   \n",
       "17833                        []                                            []   \n",
       "94002                        []  ['https://www.instagram.com/p/BSmEKy0D8Lr/']   \n",
       "94864                        []  ['https://www.instagram.com/p/Bgl9tgJA9UJ/']   \n",
       "\n",
       "                                        processed_tokens  \\\n",
       "3810   ['egaylity', 'headless', 'mutilated', 'body', ...   \n",
       "22256  ['denews', 'thai', 'policeman', 'measure', 'sh...   \n",
       "17833  ['heard', 'nonsense', 'mean', 'migrant', 'use'...   \n",
       "94002  ['hellooooo', 'little', 'face', 'welcome', 'ho...   \n",
       "94864  ['tried', 'green', 'crafts', 'syria', 'cooking...   \n",
       "\n",
       "                                          processed_text  \\\n",
       "3810   egaylity headless mutilated body gay syrian re...   \n",
       "22256  denews thai policeman measure shallow graf son...   \n",
       "17833  heard nonsense mean migrant use vote demand of...   \n",
       "94002  hellooooo little face welcome home welcomehome...   \n",
       "94864  tried green crafts syria cooking fitness wine ...   \n",
       "\n",
       "                                            processed_tm  ...   twi_long  \\\n",
       "3810   [6762, 20611, 4622, 19518, 3090, 5981, 21125, ...  ...   0.020313   \n",
       "22256  [23809, 5362, 9345, 4370, 18814, 6209, 5836, 1...  ...  13.467578   \n",
       "17833  [5746, 18424, 5344, 22425, 15585, 20373, 412, ...  ...  -1.069142   \n",
       "94002                [11475, 17470, 23317, 16177, 13879]  ...   4.273060   \n",
       "94864  [16103, 13240, 15016, 1619, 17349, 18001, 1287...  ...   0.750000   \n",
       "\n",
       "         twi_lat  user_mentions retweet_count reply_count  like_count  \\\n",
       "3810   51.619671             []           0.0         0.0         0.0   \n",
       "22256  52.591320             []           0.0         0.0         0.0   \n",
       "17833  50.814039    ['SkyNews']           0.0         1.0         0.0   \n",
       "94002  52.108060             []           0.0         0.0         0.0   \n",
       "94864  51.250000             []           0.0         0.0         0.0   \n",
       "\n",
       "       quote_count                            id_gen  \\\n",
       "3810           0.0  41caf26480a94ce3bb5cfba1453af709   \n",
       "22256          0.0  f7b634e3832e4533a3539bb821b21d01   \n",
       "17833          0.0  b98ac6b4830949acb6049172ab33011b   \n",
       "94002          0.0  6b8100005fda484abbfc196a5740e84e   \n",
       "94864          0.0  33be2b4a09734333a4aaee9858bb2fe6   \n",
       "\n",
       "                          author_id_gen prim_topic  \n",
       "3810   391ed5c44a1c4d5bb5b64b6725b061da         31  \n",
       "22256  37000cfe17c5461d841198901ae066b2         38  \n",
       "17833  280f2f871de047a89c3a8258170831e0         12  \n",
       "94002  8b1f12dc487b478f9ef24828afe7b51f         26  \n",
       "94864  a279848f2d234bc2951d88f5ba144227         19  \n",
       "\n",
       "[5 rows x 60 columns]"
      ]
     },
     "execution_count": 93,
     "metadata": {},
     "output_type": "execute_result"
    }
   ],
   "source": [
    "df[~df['twi_lat'].isnull()].sample(n=5)"
   ]
  },
  {
   "cell_type": "code",
   "execution_count": 99,
   "id": "13a5f81e-cc98-44de-a4a9-0b95f2d03ebd",
   "metadata": {},
   "outputs": [
    {
     "data": {
      "text/plain": [
       "tokens               ['demands', 'means', 'heard', 'madness', 'vote...\n",
       "topics                                                    [12, 25, 23]\n",
       "id                                                  372478328911167488\n",
       "texts                @SkyNews I have never heard such nonsense this...\n",
       "hashtags                                                            []\n",
       "entities                                                            []\n",
       "urls                                                                []\n",
       "processed_tokens     ['heard', 'nonsense', 'mean', 'migrant', 'use'...\n",
       "processed_text       heard nonsense mean migrant use vote demand of...\n",
       "processed_tm         [5746, 18424, 5344, 22425, 15585, 20373, 412, ...\n",
       "text_processed       never heard nonsense mean migrant use vote dem...\n",
       "pred_sentiment                                                       0\n",
       "hatespeech_pred                                                      0\n",
       "hatespeech_label                                                normal\n",
       "sentiment_label                                               negative\n",
       "Year                                                              2013\n",
       "author_id                                                     19089205\n",
       "Month                                                                8\n",
       "Day                                                                 27\n",
       "entity_0                                                           NaN\n",
       "entity_1                                                           NaN\n",
       "entity_2                                                           NaN\n",
       "entity_3                                                           NaN\n",
       "entity_4                                                           NaN\n",
       "entity_5                                                           NaN\n",
       "entity_6                                                           NaN\n",
       "entity_7                                                           NaN\n",
       "entity_8                                                           NaN\n",
       "entity_9                                                           NaN\n",
       "entity_10                                                          NaN\n",
       "entity_11                                                          NaN\n",
       "entity_12                                                          NaN\n",
       "entity_13                                                          NaN\n",
       "entity_14                                                          NaN\n",
       "entity_15                                                          NaN\n",
       "entity_16                                                          NaN\n",
       "entity_17                                                          NaN\n",
       "entity_18                                                          NaN\n",
       "entity_19                                                          NaN\n",
       "entity_20                                                          NaN\n",
       "entity_21                                                          NaN\n",
       "country_code                                                        GB\n",
       "lon                                                          -1.069142\n",
       "lat                                                          50.814039\n",
       "created_at                                    2013-08-27T21:58:48.000Z\n",
       "place_fullname0                                                    NaN\n",
       "pred_country_name                                                  NaN\n",
       "consistent                                                        True\n",
       "place_id                                              5fcd4ba1e6ea6868\n",
       "place_fullname                                     Portsmouth, England\n",
       "twi_long                                                     -1.069142\n",
       "twi_lat                                                      50.814039\n",
       "user_mentions                                              ['SkyNews']\n",
       "retweet_count                                                      0.0\n",
       "reply_count                                                        1.0\n",
       "like_count                                                         0.0\n",
       "quote_count                                                        0.0\n",
       "id_gen                                b98ac6b4830949acb6049172ab33011b\n",
       "author_id_gen                         280f2f871de047a89c3a8258170831e0\n",
       "prim_topic                                                          12\n",
       "Name: 17833, dtype: object"
      ]
     },
     "execution_count": 99,
     "metadata": {},
     "output_type": "execute_result"
    }
   ],
   "source": [
    "df.loc[17833]"
   ]
  },
  {
   "cell_type": "code",
   "execution_count": 15,
   "id": "53d3c7ec-dd8a-48fb-a781-126fe1fec98a",
   "metadata": {},
   "outputs": [],
   "source": [
    "row_one = df.loc[25695]"
   ]
  },
  {
   "cell_type": "code",
   "execution_count": 28,
   "id": "5535e360-327d-4970-a4a1-9da60c5aa1e2",
   "metadata": {
    "scrolled": true,
    "tags": []
   },
   "outputs": [
    {
     "data": {
      "text/plain": [
       "tokens               ['losing', 'children', 'childrenofsyria', 'dan...\n",
       "topics                                                    [49, 38, 25]\n",
       "id                                                  437312059282554880\n",
       "texts                \"#Syria is in danger of losing a generation of...\n",
       "hashtags                                  ['Syria', 'childrenofsyria']\n",
       "entities                                                            []\n",
       "urls                                         ['http://bit.ly/1nWqI5D']\n",
       "processed_tokens     ['syria', 'danger', 'losing', 'generation', 'c...\n",
       "processed_text       syria danger losing generation child childreno...\n",
       "processed_tm                 [15016, 12155, 9430, 20018, 11101, 11709]\n",
       "text_processed       syria danger losing generation child childreno...\n",
       "pred_sentiment                                                       0\n",
       "hatespeech_pred                                                      0\n",
       "hatespeech_label                                                normal\n",
       "sentiment_label                                               negative\n",
       "Year                                                              2014\n",
       "author_id                                                    244011154\n",
       "Month                                                                2\n",
       "Day                                                                 22\n",
       "entity_0             {'mention': 'syria', 'id': 1288506, 'start_pos...\n",
       "entity_1                                                           NaN\n",
       "entity_2                                                           NaN\n",
       "entity_3                                                           NaN\n",
       "entity_4                                                           NaN\n",
       "entity_5                                                           NaN\n",
       "entity_6                                                           NaN\n",
       "entity_7                                                           NaN\n",
       "entity_8                                                           NaN\n",
       "entity_9                                                           NaN\n",
       "entity_10                                                          NaN\n",
       "entity_11                                                          NaN\n",
       "entity_12                                                          NaN\n",
       "entity_13                                                          NaN\n",
       "entity_14                                                          NaN\n",
       "entity_15                                                          NaN\n",
       "entity_16                                                          NaN\n",
       "entity_17                                                          NaN\n",
       "entity_18                                                          NaN\n",
       "entity_19                                                          NaN\n",
       "entity_20                                                          NaN\n",
       "entity_21                                                          NaN\n",
       "country_code                                                        CH\n",
       "lon                                                           6.123685\n",
       "lat                                                           46.26843\n",
       "created_at                                    2014-02-22T19:44:54.000Z\n",
       "place_fullname0                                                    NaN\n",
       "pred_country_name                                                  NaN\n",
       "consistent                                                        True\n",
       "place_id                                              6ff707181c44a29c\n",
       "place_fullname                                    Collex-Bossy, Suisse\n",
       "twi_long                                                      6.123685\n",
       "twi_lat                                                       46.26843\n",
       "user_mentions                                          ['ValerieAmos']\n",
       "retweet_count                                                      0.0\n",
       "reply_count                                                        0.0\n",
       "like_count                                                         0.0\n",
       "quote_count                                                        0.0\n",
       "id_gen                            86da4fb1-7b49-4b64-bbc0-3bcdd8fbc4df\n",
       "author_id_gen                     48131f00-7b72-455d-9b91-89243a91cd74\n",
       "prim_topic                                                          49\n",
       "Name: 25695, dtype: object"
      ]
     },
     "execution_count": 28,
     "metadata": {},
     "output_type": "execute_result"
    }
   ],
   "source": [
    "row_one"
   ]
  },
  {
   "cell_type": "code",
   "execution_count": null,
   "id": "1805f97f-73ad-44db-99d8-d37b3a36da84",
   "metadata": {},
   "outputs": [],
   "source": [
    "row_one "
   ]
  },
  {
   "cell_type": "code",
   "execution_count": 33,
   "id": "9045122e-8096-4941-bac6-440e40221601",
   "metadata": {},
   "outputs": [],
   "source": [
    "row_one_cols =df.loc[25695,  df.columns.str.startswith('entity_')]"
   ]
  },
  {
   "cell_type": "code",
   "execution_count": 34,
   "id": "146220c0-d172-4ab1-8fc9-8ac417e0369d",
   "metadata": {
    "scrolled": true,
    "tags": []
   },
   "outputs": [
    {
     "data": {
      "text/plain": [
       "entity_0     {'mention': 'syria', 'id': 1288506, 'start_pos...\n",
       "entity_1                                                   NaN\n",
       "entity_2                                                   NaN\n",
       "entity_3                                                   NaN\n",
       "entity_4                                                   NaN\n",
       "entity_5                                                   NaN\n",
       "entity_6                                                   NaN\n",
       "entity_7                                                   NaN\n",
       "entity_8                                                   NaN\n",
       "entity_9                                                   NaN\n",
       "entity_10                                                  NaN\n",
       "entity_11                                                  NaN\n",
       "entity_12                                                  NaN\n",
       "entity_13                                                  NaN\n",
       "entity_14                                                  NaN\n",
       "entity_15                                                  NaN\n",
       "entity_16                                                  NaN\n",
       "entity_17                                                  NaN\n",
       "entity_18                                                  NaN\n",
       "entity_19                                                  NaN\n",
       "entity_20                                                  NaN\n",
       "entity_21                                                  NaN\n",
       "Name: 25695, dtype: object"
      ]
     },
     "execution_count": 34,
     "metadata": {},
     "output_type": "execute_result"
    }
   ],
   "source": [
    "row_one_cols"
   ]
  },
  {
   "cell_type": "code",
   "execution_count": 40,
   "id": "56373f3c-8f66-4ae3-b55d-f4273340c5e1",
   "metadata": {
    "scrolled": true,
    "tags": []
   },
   "outputs": [],
   "source": [
    "row_one_dict = row_one.to_dict()"
   ]
  },
  {
   "cell_type": "code",
   "execution_count": 84,
   "id": "abdfec7c-bf48-4116-96f8-77fc2af80013",
   "metadata": {
    "scrolled": true,
    "tags": []
   },
   "outputs": [
    {
     "data": {
      "text/plain": [
       "2014"
      ]
     },
     "execution_count": 84,
     "metadata": {},
     "output_type": "execute_result"
    }
   ],
   "source": [
    "row_one_dict['Year']"
   ]
  },
  {
   "cell_type": "code",
   "execution_count": 47,
   "id": "94d5a0df-9931-4c01-82ca-ebe064bb8d61",
   "metadata": {},
   "outputs": [],
   "source": [
    "from ast import literal_eval"
   ]
  },
  {
   "cell_type": "code",
   "execution_count": null,
   "id": "2cba1e99-73ab-4b75-86f3-89a0ebabe08e",
   "metadata": {},
   "outputs": [],
   "source": []
  },
  {
   "cell_type": "code",
   "execution_count": 76,
   "id": "e47ce564-f45d-49fe-8c17-fe108355b346",
   "metadata": {},
   "outputs": [],
   "source": [
    "entities = [literal_eval(v) for e,v in row_one_dict.items() if e.startswith('entity_') if str(v)!='nan']"
   ]
  },
  {
   "cell_type": "code",
   "execution_count": 77,
   "id": "40760ed5-c1f9-460f-8b73-1327ce9672be",
   "metadata": {},
   "outputs": [
    {
     "data": {
      "text/plain": [
       "[{'mention': 'syria', 'id': 1288506, 'start_pos': 1}]"
      ]
     },
     "execution_count": 77,
     "metadata": {},
     "output_type": "execute_result"
    }
   ],
   "source": [
    "entities"
   ]
  },
  {
   "cell_type": "code",
   "execution_count": 75,
   "id": "77ee6f24-85a5-485d-a7df-4b0272647ac5",
   "metadata": {},
   "outputs": [
    {
     "data": {
      "text/plain": [
       "'nan'"
      ]
     },
     "execution_count": 75,
     "metadata": {},
     "output_type": "execute_result"
    }
   ],
   "source": [
    "str(entities[2])"
   ]
  },
  {
   "cell_type": "code",
   "execution_count": 78,
   "id": "4b878893-d1a9-4f78-928d-ca6e8ff99f94",
   "metadata": {},
   "outputs": [],
   "source": [
    "with open('input/entities_dict_extracted.json') as file:\n",
    "    entities_dict=json.load(file)"
   ]
  },
  {
   "cell_type": "code",
   "execution_count": 80,
   "id": "77af68d8-ce7f-42fb-997e-6a5041b93a9a",
   "metadata": {},
   "outputs": [
    {
     "data": {
      "text/plain": [
       "{'description': ' Syria (), officially the Syrian Arab Republic (), is a country in Western Asia, bordering Lebanon to the southwest, the Mediterranean Sea to the west, Turkey to the north, Iraq to the east, Jordan to the south, and Israel to the southwest. A country of fert',\n",
       " 'entity': 'Syria',\n",
       " 'url': 'https://en.wikipedia.org/wiki?curid=7515849'}"
      ]
     },
     "execution_count": 80,
     "metadata": {},
     "output_type": "execute_result"
    }
   ],
   "source": [
    "entities_dict['1288506']"
   ]
  },
  {
   "cell_type": "code",
   "execution_count": null,
   "id": "48352fc5-591a-4606-9d4b-b4a865760cdd",
   "metadata": {},
   "outputs": [],
   "source": []
  },
  {
   "cell_type": "code",
   "execution_count": 20,
   "id": "4357b068-cbba-478e-aca9-3653fc2dea4b",
   "metadata": {
    "scrolled": true,
    "tags": []
   },
   "outputs": [
    {
     "data": {
      "text/plain": [
       "'48131f007b72455d9b9189243a91cd74'"
      ]
     },
     "execution_count": 20,
     "metadata": {},
     "output_type": "execute_result"
    }
   ],
   "source": [
    "row_one['author_id_gen'].replace('-','')"
   ]
  },
  {
   "cell_type": "code",
   "execution_count": 121,
   "id": "7db59310-e178-467f-9ca5-d7a964942161",
   "metadata": {},
   "outputs": [],
   "source": [
    "idx = row_one['id']"
   ]
  },
  {
   "cell_type": "code",
   "execution_count": 122,
   "id": "da175906-a2c5-4d71-bf0a-e098fd9f3a38",
   "metadata": {},
   "outputs": [
    {
     "data": {
      "text/plain": [
       "'437312059282554880'"
      ]
     },
     "execution_count": 122,
     "metadata": {},
     "output_type": "execute_result"
    }
   ],
   "source": [
    "idx"
   ]
  },
  {
   "cell_type": "code",
   "execution_count": 123,
   "id": "1e37abc5-8f5c-46c6-b016-4aefeaedc26d",
   "metadata": {},
   "outputs": [],
   "source": [
    "idx = URIRef(mgkb+idx)"
   ]
  },
  {
   "cell_type": "code",
   "execution_count": 124,
   "id": "18826428-5f74-4ffa-8176-245faf3ec8ad",
   "metadata": {},
   "outputs": [
    {
     "data": {
      "text/plain": [
       "rdflib.term.URIRef('urn:absolute:mgKB/437312059282554880')"
      ]
     },
     "execution_count": 124,
     "metadata": {},
     "output_type": "execute_result"
    }
   ],
   "source": [
    "idx"
   ]
  },
  {
   "cell_type": "code",
   "execution_count": null,
   "id": "574a32bb-dd7b-48ce-af08-0d96f966879d",
   "metadata": {},
   "outputs": [],
   "source": []
  },
  {
   "cell_type": "code",
   "execution_count": 99,
   "id": "7ffa96cc-ee2a-4830-a42c-6c273053815b",
   "metadata": {},
   "outputs": [],
   "source": [
    "def add_triples_for_one_tweet(g, row):\n",
    "    idx = row['id']\n",
    "    \n",
    "    # add sioc:id\n",
    "    g.add((sioc.Post, sioc.id, Literal(id_gen)))\n",
    "    # add dc:created\n",
    "    created_at = row['created_at']\n",
    "    g.add((sioc.Post, dc.created, Literal(created_at)))\n",
    "    # add UserAccount and its id\n",
    "    author_id_gen = row['author_id_gen']\n",
    "    g.add((sioc.UserAccount, sioc.id, Literal(author_id_gen)))\n",
    "    # add place (name, long, lat, country)\n",
    "    place_name = row['place_fullname']\n",
    "    lon = row['twi_long']\n",
    "    lat = row['twi_lat']\n",
    "    country_code = row['country_code']\n",
    "    g.add((schema.Place, sioc.name, Literal(place_name)))\n",
    "    g.add((schema.Place, schema.addressCountry, Literal(country_code)))\n",
    "    g.add((schema.Place, schema.latitude, Literal(lat)))\n",
    "    g.add((schema.Place, schema.longitude, Literal(lon)))"
   ]
  },
  {
   "cell_type": "code",
   "execution_count": 100,
   "id": "83adef99-e4bf-4640-9dbd-ed80678224de",
   "metadata": {},
   "outputs": [
    {
     "name": "stdout",
     "output_type": "stream",
     "text": [
      "86da4fb1-7b49-4b64-bbc0-3bcdd8fbc4df\n"
     ]
    }
   ],
   "source": [
    "add_triples_for_one_tweet(g, row_one)"
   ]
  },
  {
   "cell_type": "code",
   "execution_count": 105,
   "id": "2b3db21c-0f79-4209-aebd-dd4eb8312de9",
   "metadata": {},
   "outputs": [],
   "source": [
    "from datetime import datetime\n",
    "\n",
    "\n",
    "now = datetime.now()\n",
    "date_time = now.strftime(\"%m%d%Y_%H%M%S\")"
   ]
  },
  {
   "cell_type": "code",
   "execution_count": 136,
   "id": "db4b43b0-17f6-43dd-98e6-3e2f2c4470c0",
   "metadata": {},
   "outputs": [],
   "source": [
    "g.serialize(f\"output/migrationsKB_{date_time}.t\", format=\"turtle\")"
   ]
  },
  {
   "cell_type": "code",
   "execution_count": null,
   "id": "6d19e37f-16e9-4d7b-8f9a-714f6467156c",
   "metadata": {},
   "outputs": [],
   "source": []
  },
  {
   "cell_type": "code",
   "execution_count": null,
   "id": "1f1a2c67-2319-46f1-9baf-92434d8625e5",
   "metadata": {},
   "outputs": [],
   "source": [
    "g.add((sioc.Post, ))"
   ]
  },
  {
   "cell_type": "code",
   "execution_count": null,
   "id": "87a80801-420c-46e2-93bd-2372cfaccba4",
   "metadata": {},
   "outputs": [],
   "source": []
  }
 ],
 "metadata": {
  "kernelspec": {
   "display_name": "migr",
   "language": "python",
   "name": "migr"
  },
  "language_info": {
   "codemirror_mode": {
    "name": "ipython",
    "version": 3
   },
   "file_extension": ".py",
   "mimetype": "text/x-python",
   "name": "python",
   "nbconvert_exporter": "python",
   "pygments_lexer": "ipython3",
   "version": "3.8.8"
  }
 },
 "nbformat": 4,
 "nbformat_minor": 5
}